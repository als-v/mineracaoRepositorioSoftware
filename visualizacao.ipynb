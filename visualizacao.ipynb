{
 "cells": [
  {
   "cell_type": "code",
   "execution_count": 140,
   "metadata": {},
   "outputs": [],
   "source": [
    "import numpy as np\n",
    "import pandas as pd\n",
    "import seaborn as sns\n",
    "import plotly.express as px\n",
    "import matplotlib.pyplot as plt\n",
    "from sklearn.impute import SimpleImputer\n",
    "from sklearn.compose import ColumnTransformer\n",
    "from sklearn.preprocessing import StandardScaler\n",
    "from sklearn.model_selection import train_test_split\n",
    "from scipy.stats import mannwhitneyu\n",
    "from math import sqrt"
   ]
  },
  {
   "cell_type": "code",
   "execution_count": 134,
   "metadata": {},
   "outputs": [
    {
     "name": "stdout",
     "output_type": "stream",
     "text": [
      "<class 'pandas.core.frame.DataFrame'>\n",
      "RangeIndex: 1107 entries, 0 to 1106\n",
      "Data columns (total 16 columns):\n",
      " #   Column                Non-Null Count  Dtype \n",
      "---  ------                --------------  ----- \n",
      " 0   Situation             1107 non-null   object\n",
      " 1   Nivel                 1107 non-null   object\n",
      " 2   Imports               1107 non-null   int64 \n",
      " 3   Changed_files         1107 non-null   int64 \n",
      " 4   Changes               1107 non-null   int64 \n",
      " 5   Deletion              1107 non-null   int64 \n",
      " 6   Aditions              1107 non-null   int64 \n",
      " 7   Size_body             1107 non-null   int64 \n",
      " 8   PR_comments           1107 non-null   int64 \n",
      " 9   PR_size_comments      1107 non-null   int64 \n",
      " 10  Review_comments       1107 non-null   int64 \n",
      " 11  Review_size_comments  1107 non-null   int64 \n",
      " 12  Issue_comments        1107 non-null   int64 \n",
      " 13  Issue_size_comments   1107 non-null   int64 \n",
      " 14  Qtd_labels            1107 non-null   int64 \n",
      " 15  Commits               1107 non-null   int64 \n",
      "dtypes: int64(14), object(2)\n",
      "memory usage: 138.5+ KB\n",
      "None\n"
     ]
    },
    {
     "data": {
      "text/html": [
       "<div>\n",
       "<style scoped>\n",
       "    .dataframe tbody tr th:only-of-type {\n",
       "        vertical-align: middle;\n",
       "    }\n",
       "\n",
       "    .dataframe tbody tr th {\n",
       "        vertical-align: top;\n",
       "    }\n",
       "\n",
       "    .dataframe thead th {\n",
       "        text-align: right;\n",
       "    }\n",
       "</style>\n",
       "<table border=\"1\" class=\"dataframe\">\n",
       "  <thead>\n",
       "    <tr style=\"text-align: right;\">\n",
       "      <th></th>\n",
       "      <th>Situation</th>\n",
       "      <th>Nivel</th>\n",
       "      <th>Imports</th>\n",
       "      <th>Changed_files</th>\n",
       "      <th>Changes</th>\n",
       "      <th>Deletion</th>\n",
       "      <th>Aditions</th>\n",
       "      <th>Size_body</th>\n",
       "      <th>PR_comments</th>\n",
       "      <th>PR_size_comments</th>\n",
       "      <th>Review_comments</th>\n",
       "      <th>Review_size_comments</th>\n",
       "      <th>Issue_comments</th>\n",
       "      <th>Issue_size_comments</th>\n",
       "      <th>Qtd_labels</th>\n",
       "      <th>Commits</th>\n",
       "    </tr>\n",
       "  </thead>\n",
       "  <tbody>\n",
       "    <tr>\n",
       "      <th>0</th>\n",
       "      <td>Open</td>\n",
       "      <td>Difficult</td>\n",
       "      <td>0</td>\n",
       "      <td>5</td>\n",
       "      <td>27</td>\n",
       "      <td>7</td>\n",
       "      <td>20</td>\n",
       "      <td>1100</td>\n",
       "      <td>8</td>\n",
       "      <td>1086</td>\n",
       "      <td>5</td>\n",
       "      <td>1086</td>\n",
       "      <td>7</td>\n",
       "      <td>1752</td>\n",
       "      <td>3</td>\n",
       "      <td>1</td>\n",
       "    </tr>\n",
       "    <tr>\n",
       "      <th>1</th>\n",
       "      <td>Open</td>\n",
       "      <td>Difficult</td>\n",
       "      <td>7</td>\n",
       "      <td>1</td>\n",
       "      <td>5</td>\n",
       "      <td>1</td>\n",
       "      <td>4</td>\n",
       "      <td>157</td>\n",
       "      <td>0</td>\n",
       "      <td>0</td>\n",
       "      <td>0</td>\n",
       "      <td>0</td>\n",
       "      <td>0</td>\n",
       "      <td>0</td>\n",
       "      <td>1</td>\n",
       "      <td>1</td>\n",
       "    </tr>\n",
       "    <tr>\n",
       "      <th>2</th>\n",
       "      <td>Open</td>\n",
       "      <td>Difficult</td>\n",
       "      <td>12</td>\n",
       "      <td>10</td>\n",
       "      <td>427</td>\n",
       "      <td>37</td>\n",
       "      <td>390</td>\n",
       "      <td>81</td>\n",
       "      <td>4</td>\n",
       "      <td>2598</td>\n",
       "      <td>8</td>\n",
       "      <td>2598</td>\n",
       "      <td>3</td>\n",
       "      <td>516</td>\n",
       "      <td>2</td>\n",
       "      <td>4</td>\n",
       "    </tr>\n",
       "    <tr>\n",
       "      <th>3</th>\n",
       "      <td>Open</td>\n",
       "      <td>Difficult</td>\n",
       "      <td>2</td>\n",
       "      <td>11</td>\n",
       "      <td>870</td>\n",
       "      <td>6</td>\n",
       "      <td>864</td>\n",
       "      <td>47</td>\n",
       "      <td>11</td>\n",
       "      <td>3886</td>\n",
       "      <td>14</td>\n",
       "      <td>3886</td>\n",
       "      <td>10</td>\n",
       "      <td>5529</td>\n",
       "      <td>3</td>\n",
       "      <td>3</td>\n",
       "    </tr>\n",
       "    <tr>\n",
       "      <th>4</th>\n",
       "      <td>Open</td>\n",
       "      <td>Difficult</td>\n",
       "      <td>1</td>\n",
       "      <td>15</td>\n",
       "      <td>106</td>\n",
       "      <td>46</td>\n",
       "      <td>60</td>\n",
       "      <td>334</td>\n",
       "      <td>5</td>\n",
       "      <td>0</td>\n",
       "      <td>0</td>\n",
       "      <td>0</td>\n",
       "      <td>3</td>\n",
       "      <td>525</td>\n",
       "      <td>2</td>\n",
       "      <td>4</td>\n",
       "    </tr>\n",
       "  </tbody>\n",
       "</table>\n",
       "</div>"
      ],
      "text/plain": [
       "  Situation      Nivel  Imports  Changed_files  Changes  Deletion  Aditions  \\\n",
       "0      Open  Difficult        0              5       27         7        20   \n",
       "1      Open  Difficult        7              1        5         1         4   \n",
       "2      Open  Difficult       12             10      427        37       390   \n",
       "3      Open  Difficult        2             11      870         6       864   \n",
       "4      Open  Difficult        1             15      106        46        60   \n",
       "\n",
       "   Size_body  PR_comments  PR_size_comments  Review_comments  \\\n",
       "0       1100            8              1086                5   \n",
       "1        157            0                 0                0   \n",
       "2         81            4              2598                8   \n",
       "3         47           11              3886               14   \n",
       "4        334            5                 0                0   \n",
       "\n",
       "   Review_size_comments  Issue_comments  Issue_size_comments  Qtd_labels  \\\n",
       "0                  1086               7                 1752           3   \n",
       "1                     0               0                    0           1   \n",
       "2                  2598               3                  516           2   \n",
       "3                  3886              10                 5529           3   \n",
       "4                     0               3                  525           2   \n",
       "\n",
       "   Commits  \n",
       "0        1  \n",
       "1        1  \n",
       "2        4  \n",
       "3        3  \n",
       "4        4  "
      ]
     },
     "execution_count": 134,
     "metadata": {},
     "output_type": "execute_result"
    }
   ],
   "source": [
    "df = pd.read_csv('data/data.csv', sep=';')\n",
    "df = df.drop(columns=['Number', 'Closed_date', 'Merge_date', 'Diff_MergeLastModify', 'Create_date', 'Diff_CreateNow'])\n",
    "\n",
    "print(df.info())\n",
    "df.head(5)"
   ]
  },
  {
   "cell_type": "code",
   "execution_count": 135,
   "metadata": {},
   "outputs": [],
   "source": [
    "# separar os dados em faceis/difíceis\n",
    "dfEasy = df.loc[(df['Situation'] == 'Closed') & (df['Nivel'] == 'Easy')]\n",
    "dfDifficult = df.loc[(df['Situation'] == 'Closed') & (df['Nivel'] == 'Difficult')]"
   ]
  },
  {
   "cell_type": "code",
   "execution_count": 136,
   "metadata": {},
   "outputs": [
    {
     "data": {
      "text/plain": [
       "(890, 42, 42)"
      ]
     },
     "execution_count": 136,
     "metadata": {},
     "output_type": "execute_result"
    }
   ],
   "source": [
    "y = dfEasy['Nivel']\n",
    "X = dfEasy.values\n",
    "\n",
    "X_train, X_test, y_train, y_test = train_test_split(X, y, test_size=0.043, shuffle=True)\n",
    "\n",
    "X_train, X_val, y_train, y_val = train_test_split(X_train, y_train, test_size=0.044, shuffle=True)\n",
    "\n",
    "dfTeste = pd.DataFrame(np.concatenate((dfDifficult.values, X_test), axis=0), columns=df.columns) \n",
    "dfValid =  pd.DataFrame(np.concatenate((dfDifficult.values, X_val), axis=0), columns=df.columns)\n",
    "valid =  pd.DataFrame(X_val, columns=df.columns)\n",
    "valid['Nivel'] = 'Easy valid'\n",
    "\n",
    "dfAll = pd.DataFrame(np.concatenate((dfDifficult.values, X_test, valid.values), axis=0), columns=df.columns) \n",
    "dfAll.loc[dfAll['Nivel'] == 'Easy', 'Nivel'] = 'Easy Train'\n",
    "\n",
    "len(X_train), len(X_test), len(X_val)"
   ]
  },
  {
   "cell_type": "code",
   "execution_count": 137,
   "metadata": {},
   "outputs": [
    {
     "data": {
      "text/html": [
       "<div>\n",
       "<style scoped>\n",
       "    .dataframe tbody tr th:only-of-type {\n",
       "        vertical-align: middle;\n",
       "    }\n",
       "\n",
       "    .dataframe tbody tr th {\n",
       "        vertical-align: top;\n",
       "    }\n",
       "\n",
       "    .dataframe thead tr th {\n",
       "        text-align: left;\n",
       "    }\n",
       "\n",
       "    .dataframe thead tr:last-of-type th {\n",
       "        text-align: right;\n",
       "    }\n",
       "</style>\n",
       "<table border=\"1\" class=\"dataframe\">\n",
       "  <thead>\n",
       "    <tr>\n",
       "      <th></th>\n",
       "      <th colspan=\"4\" halign=\"left\">Situation</th>\n",
       "      <th colspan=\"4\" halign=\"left\">Imports</th>\n",
       "      <th colspan=\"2\" halign=\"left\">Changed_files</th>\n",
       "      <th>...</th>\n",
       "      <th colspan=\"2\" halign=\"left\">Issue_size_comments</th>\n",
       "      <th colspan=\"4\" halign=\"left\">Qtd_labels</th>\n",
       "      <th colspan=\"4\" halign=\"left\">Commits</th>\n",
       "    </tr>\n",
       "    <tr>\n",
       "      <th></th>\n",
       "      <th>count</th>\n",
       "      <th>unique</th>\n",
       "      <th>top</th>\n",
       "      <th>freq</th>\n",
       "      <th>count</th>\n",
       "      <th>unique</th>\n",
       "      <th>top</th>\n",
       "      <th>freq</th>\n",
       "      <th>count</th>\n",
       "      <th>unique</th>\n",
       "      <th>...</th>\n",
       "      <th>top</th>\n",
       "      <th>freq</th>\n",
       "      <th>count</th>\n",
       "      <th>unique</th>\n",
       "      <th>top</th>\n",
       "      <th>freq</th>\n",
       "      <th>count</th>\n",
       "      <th>unique</th>\n",
       "      <th>top</th>\n",
       "      <th>freq</th>\n",
       "    </tr>\n",
       "    <tr>\n",
       "      <th>Nivel</th>\n",
       "      <th></th>\n",
       "      <th></th>\n",
       "      <th></th>\n",
       "      <th></th>\n",
       "      <th></th>\n",
       "      <th></th>\n",
       "      <th></th>\n",
       "      <th></th>\n",
       "      <th></th>\n",
       "      <th></th>\n",
       "      <th></th>\n",
       "      <th></th>\n",
       "      <th></th>\n",
       "      <th></th>\n",
       "      <th></th>\n",
       "      <th></th>\n",
       "      <th></th>\n",
       "      <th></th>\n",
       "      <th></th>\n",
       "      <th></th>\n",
       "      <th></th>\n",
       "    </tr>\n",
       "  </thead>\n",
       "  <tbody>\n",
       "    <tr>\n",
       "      <th>Difficult</th>\n",
       "      <td>42</td>\n",
       "      <td>1</td>\n",
       "      <td>Closed</td>\n",
       "      <td>42</td>\n",
       "      <td>42</td>\n",
       "      <td>10</td>\n",
       "      <td>0</td>\n",
       "      <td>26</td>\n",
       "      <td>42</td>\n",
       "      <td>12</td>\n",
       "      <td>...</td>\n",
       "      <td>530</td>\n",
       "      <td>2</td>\n",
       "      <td>42</td>\n",
       "      <td>7</td>\n",
       "      <td>1</td>\n",
       "      <td>16</td>\n",
       "      <td>42</td>\n",
       "      <td>8</td>\n",
       "      <td>1</td>\n",
       "      <td>22</td>\n",
       "    </tr>\n",
       "    <tr>\n",
       "      <th>Easy Train</th>\n",
       "      <td>42</td>\n",
       "      <td>1</td>\n",
       "      <td>Closed</td>\n",
       "      <td>42</td>\n",
       "      <td>42</td>\n",
       "      <td>7</td>\n",
       "      <td>0</td>\n",
       "      <td>35</td>\n",
       "      <td>42</td>\n",
       "      <td>10</td>\n",
       "      <td>...</td>\n",
       "      <td>2041</td>\n",
       "      <td>1</td>\n",
       "      <td>42</td>\n",
       "      <td>5</td>\n",
       "      <td>0</td>\n",
       "      <td>18</td>\n",
       "      <td>42</td>\n",
       "      <td>5</td>\n",
       "      <td>1</td>\n",
       "      <td>31</td>\n",
       "    </tr>\n",
       "    <tr>\n",
       "      <th>Easy valid</th>\n",
       "      <td>42</td>\n",
       "      <td>1</td>\n",
       "      <td>Closed</td>\n",
       "      <td>42</td>\n",
       "      <td>42</td>\n",
       "      <td>7</td>\n",
       "      <td>0</td>\n",
       "      <td>35</td>\n",
       "      <td>42</td>\n",
       "      <td>14</td>\n",
       "      <td>...</td>\n",
       "      <td>1682</td>\n",
       "      <td>1</td>\n",
       "      <td>42</td>\n",
       "      <td>5</td>\n",
       "      <td>0</td>\n",
       "      <td>21</td>\n",
       "      <td>42</td>\n",
       "      <td>12</td>\n",
       "      <td>1</td>\n",
       "      <td>24</td>\n",
       "    </tr>\n",
       "  </tbody>\n",
       "</table>\n",
       "<p>3 rows × 60 columns</p>\n",
       "</div>"
      ],
      "text/plain": [
       "           Situation                     Imports                  \\\n",
       "               count unique     top freq   count unique top freq   \n",
       "Nivel                                                              \n",
       "Difficult         42      1  Closed   42      42     10   0   26   \n",
       "Easy Train        42      1  Closed   42      42      7   0   35   \n",
       "Easy valid        42      1  Closed   42      42      7   0   35   \n",
       "\n",
       "           Changed_files         ... Issue_size_comments      Qtd_labels  \\\n",
       "                   count unique  ...                 top freq      count   \n",
       "Nivel                            ...                                       \n",
       "Difficult             42     12  ...                 530    2         42   \n",
       "Easy Train            42     10  ...                2041    1         42   \n",
       "Easy valid            42     14  ...                1682    1         42   \n",
       "\n",
       "                           Commits                  \n",
       "           unique top freq   count unique top freq  \n",
       "Nivel                                               \n",
       "Difficult       7   1   16      42      8   1   22  \n",
       "Easy Train      5   0   18      42      5   1   31  \n",
       "Easy valid      5   0   21      42     12   1   24  \n",
       "\n",
       "[3 rows x 60 columns]"
      ]
     },
     "execution_count": 137,
     "metadata": {},
     "output_type": "execute_result"
    }
   ],
   "source": [
    "dfAll.groupby('Nivel').describe()"
   ]
  },
  {
   "cell_type": "code",
   "execution_count": 146,
   "metadata": {},
   "outputs": [
    {
     "name": "stdout",
     "output_type": "stream",
     "text": [
      "Bloxpot para o atributo:  Imports\n"
     ]
    },
    {
     "data": {
      "image/png": "[encoded data removed]",
      "text/plain": [
       "<Figure size 432x288 with 1 Axes>"
      ]
     },
     "metadata": {
      "needs_background": "light"
     },
     "output_type": "display_data"
    },
    {
     "name": "stdout",
     "output_type": "stream",
     "text": [
      "Dificil X Easy train:\n",
      "p:  0.13454893305705834 \n",
      "d:  0.14413479687897732\n",
      "\n",
      "Dificil X Easy valid:\n",
      "p:  0.11676488116097165 \n",
      "d:  0.022736215409204424 \n",
      "\n",
      "Bloxpot para o atributo:  Changed_files\n"
     ]
    },
    {
     "data": {
      "image/png": "[encoded data removed]",
      "text/plain": [
       "<Figure size 432x288 with 1 Axes>"
      ]
     },
     "metadata": {
      "needs_background": "light"
     },
     "output_type": "display_data"
    },
    {
     "name": "stdout",
     "output_type": "stream",
     "text": [
      "Dificil X Easy train:\n",
      "p:  0.0354405776901442 \n",
      "d:  0.3403217697145193\n",
      "\n",
      "Dificil X Easy valid:\n",
      "p:  0.11888246820005012 \n",
      "d:  -0.08509051925818978 \n",
      "\n",
      "Bloxpot para o atributo:  Changes\n"
     ]
    },
    {
     "data": {
      "image/png": "[encoded data removed]",
      "text/plain": [
       "<Figure size 432x288 with 1 Axes>"
      ]
     },
     "metadata": {
      "needs_background": "light"
     },
     "output_type": "display_data"
    },
    {
     "name": "stdout",
     "output_type": "stream",
     "text": [
      "Dificil X Easy train:\n",
      "p:  0.006924036105319397 \n",
      "d:  0.03441570172663962\n",
      "\n",
      "Dificil X Easy valid:\n",
      "p:  0.010693803971646312 \n",
      "d:  -0.09500608788916515 \n",
      "\n",
      "Bloxpot para o atributo:  Deletion\n"
     ]
    },
    {
     "data": {
      "image/png": "[encoded data removed]",
      "text/plain": [
       "<Figure size 432x288 with 1 Axes>"
      ]
     },
     "metadata": {
      "needs_background": "light"
     },
     "output_type": "display_data"
    },
    {
     "name": "stdout",
     "output_type": "stream",
     "text": [
      "Dificil X Easy train:\n",
      "p:  0.11676488116097165 \n",
      "d:  -0.11515902279305162\n",
      "\n",
      "Dificil X Easy valid:\n",
      "p:  0.11467670959607837 \n",
      "d:  0.018808738268993288 \n",
      "\n",
      "Bloxpot para o atributo:  Aditions\n"
     ]
    },
    {
     "data": {
      "image/png": "[encoded data removed]",
      "text/plain": [
       "<Figure size 432x288 with 1 Axes>"
      ]
     },
     "metadata": {
      "needs_background": "light"
     },
     "output_type": "display_data"
    },
    {
     "name": "stdout",
     "output_type": "stream",
     "text": [
      "Dificil X Easy train:\n",
      "p:  0.005525375349404331 \n",
      "d:  0.09266244278874411\n",
      "\n",
      "Dificil X Easy valid:\n",
      "p:  0.012516336287520899 \n",
      "d:  -0.10328372731581503 \n",
      "\n",
      "Bloxpot para o atributo:  Size_body\n"
     ]
    },
    {
     "data": {
      "image/png": "[encoded data removed]",
      "text/plain": [
       "<Figure size 432x288 with 1 Axes>"
      ]
     },
     "metadata": {
      "needs_background": "light"
     },
     "output_type": "display_data"
    },
    {
     "name": "stdout",
     "output_type": "stream",
     "text": [
      "Dificil X Easy train:\n",
      "p:  0.0011073265806692593 \n",
      "d:  0.6467303868592182\n",
      "\n",
      "Dificil X Easy valid:\n",
      "p:  0.0003624533264903939 \n",
      "d:  0.7021205226839454 \n",
      "\n",
      "Bloxpot para o atributo:  PR_comments\n"
     ]
    },
    {
     "data": {
      "image/png": "[encoded data removed]",
      "text/plain": [
       "<Figure size 432x288 with 1 Axes>"
      ]
     },
     "metadata": {
      "needs_background": "light"
     },
     "output_type": "display_data"
    },
    {
     "name": "stdout",
     "output_type": "stream",
     "text": [
      "Dificil X Easy train:\n",
      "p:  0.7052409121058483 \n",
      "d:  -0.04407497833804133\n",
      "\n",
      "Dificil X Easy valid:\n",
      "p:  0.7385789473558421 \n",
      "d:  -0.008011162441080272 \n",
      "\n",
      "Bloxpot para o atributo:  PR_size_comments\n"
     ]
    },
    {
     "data": {
      "image/png": "[encoded data removed]",
      "text/plain": [
       "<Figure size 432x288 with 1 Axes>"
      ]
     },
     "metadata": {
      "needs_background": "light"
     },
     "output_type": "display_data"
    },
    {
     "name": "stdout",
     "output_type": "stream",
     "text": [
      "Dificil X Easy train:\n",
      "p:  0.5478444775725548 \n",
      "d:  0.25822604505578123\n",
      "\n",
      "Dificil X Easy valid:\n",
      "p:  0.5901632976614167 \n",
      "d:  0.33861334733576665 \n",
      "\n",
      "Bloxpot para o atributo:  Review_comments\n"
     ]
    },
    {
     "data": {
      "image/png": "[encoded data removed]",
      "text/plain": [
       "<Figure size 432x288 with 1 Axes>"
      ]
     },
     "metadata": {
      "needs_background": "light"
     },
     "output_type": "display_data"
    },
    {
     "name": "stdout",
     "output_type": "stream",
     "text": [
      "Dificil X Easy train:\n",
      "p:  0.45705390386997696 \n",
      "d:  0.23600774592014961\n",
      "\n",
      "Dificil X Easy valid:\n",
      "p:  0.5901632976614167 \n",
      "d:  0.2788411466855231 \n",
      "\n",
      "Bloxpot para o atributo:  Review_size_comments\n"
     ]
    },
    {
     "data": {
      "image/png": "[encoded data removed]",
      "text/plain": [
       "<Figure size 432x288 with 1 Axes>"
      ]
     },
     "metadata": {
      "needs_background": "light"
     },
     "output_type": "display_data"
    },
    {
     "name": "stdout",
     "output_type": "stream",
     "text": [
      "Dificil X Easy train:\n",
      "p:  0.5478444775725548 \n",
      "d:  0.25822604505578123\n",
      "\n",
      "Dificil X Easy valid:\n",
      "p:  0.5901632976614167 \n",
      "d:  0.33861334733576665 \n",
      "\n",
      "Bloxpot para o atributo:  Issue_comments\n"
     ]
    },
    {
     "data": {
      "image/png": "[encoded data removed]",
      "text/plain": [
       "<Figure size 432x288 with 1 Axes>"
      ]
     },
     "metadata": {
      "needs_background": "light"
     },
     "output_type": "display_data"
    },
    {
     "name": "stdout",
     "output_type": "stream",
     "text": [
      "Dificil X Easy train:\n",
      "p:  0.8066755522115383 \n",
      "d:  -0.04284793228813011\n",
      "\n",
      "Dificil X Easy valid:\n",
      "p:  0.8204890567488865 \n",
      "d:  -0.02065991374551593 \n",
      "\n",
      "Bloxpot para o atributo:  Issue_size_comments\n"
     ]
    },
    {
     "data": {
      "image/png": "[encoded data removed]",
      "text/plain": [
       "<Figure size 432x288 with 1 Axes>"
      ]
     },
     "metadata": {
      "needs_background": "light"
     },
     "output_type": "display_data"
    },
    {
     "name": "stdout",
     "output_type": "stream",
     "text": [
      "Dificil X Easy train:\n",
      "p:  0.8973397472675184 \n",
      "d:  0.32420704209428364\n",
      "\n",
      "Dificil X Easy valid:\n",
      "p:  0.8903025989135955 \n",
      "d:  0.319753727665976 \n",
      "\n",
      "Bloxpot para o atributo:  Qtd_labels\n"
     ]
    },
    {
     "data": {
      "image/png": "[encoded data removed]",
      "text/plain": [
       "<Figure size 432x288 with 1 Axes>"
      ]
     },
     "metadata": {
      "needs_background": "light"
     },
     "output_type": "display_data"
    },
    {
     "name": "stdout",
     "output_type": "stream",
     "text": [
      "Dificil X Easy train:\n",
      "p:  6.435052228258968e-08 \n",
      "d:  1.3456983583900357\n",
      "\n",
      "Dificil X Easy valid:\n",
      "p:  6.288749662650114e-09 \n",
      "d:  1.4447124075266713 \n",
      "\n",
      "Bloxpot para o atributo:  Commits\n"
     ]
    },
    {
     "data": {
      "image/png": "[encoded data removed]",
      "text/plain": [
       "<Figure size 432x288 with 1 Axes>"
      ]
     },
     "metadata": {
      "needs_background": "light"
     },
     "output_type": "display_data"
    },
    {
     "name": "stdout",
     "output_type": "stream",
     "text": [
      "Dificil X Easy train:\n",
      "p:  0.06581278158482756 \n",
      "d:  0.4550382966998725\n",
      "\n",
      "Dificil X Easy valid:\n",
      "p:  0.7656075410167787 \n",
      "d:  0.005177050569228348 \n",
      "\n"
     ]
    }
   ],
   "source": [
    "def cohend(d1, d2):\n",
    "\tn1, n2 = len(d1), len(d2)\n",
    "\ts1, s2 = np.var(d1, ddof=1), np.var(d2, ddof=1)\n",
    "\ts = sqrt(((n1 - 1) * s1 + (n2 - 1) * s2) / (n1 + n2 - 2))\n",
    "\tu1, u2 = np.mean(d1), np.mean(d2)\n",
    "\treturn (u1 - u2) / s\n",
    "\n",
    "for column in dfAll.columns[2:]:\n",
    "    print('Bloxpot para o atributo: ', column)\n",
    "    sns.boxplot(data=dfAll, y=column, x='Nivel')\n",
    "    plt.show()\n",
    "\n",
    "    U1, p = mannwhitneyu(dfAll.loc[dfAll['Nivel'] == 'Difficult', column].values.tolist(), dfAll.loc[dfAll['Nivel'] == 'Easy Train', column].values.tolist(), method=\"exact\")\n",
    "    print('Dificil X Easy train:\\np: ', p, '\\nd: ', cohend(dfAll.loc[dfAll['Nivel'] == 'Difficult', column].values.tolist(), dfAll.loc[dfAll['Nivel'] == 'Easy Train', column].values.tolist()))\n",
    "\n",
    "    U1, p = mannwhitneyu(dfAll.loc[dfAll['Nivel'] == 'Difficult', column].values.tolist(), dfAll.loc[dfAll['Nivel'] == 'Easy valid', column].values.tolist(), method=\"exact\")\n",
    "    print('\\nDificil X Easy valid:\\np: ', p, '\\nd: ', cohend(dfAll.loc[dfAll['Nivel'] == 'Difficult', column].values.tolist(), dfAll.loc[dfAll['Nivel'] == 'Easy valid', column].values.tolist()), '\\n')\n"
   ]
  }
 ],
 "metadata": {
  "interpreter": {
   "hash": "a01cbe3509f40fe8fbb70f6e35a414a4aeac5b623ad71bdf179810de598dc153"
  },
  "kernelspec": {
   "display_name": "Python 3.9.7 64-bit",
   "language": "python",
   "name": "python3"
  },
  "language_info": {
   "codemirror_mode": {
    "name": "ipython",
    "version": 3
   },
   "file_extension": ".py",
   "mimetype": "text/x-python",
   "name": "python",
   "nbconvert_exporter": "python",
   "pygments_lexer": "ipython3",
   "version": "3.9.7"
  },
  "orig_nbformat": 4
 },
 "nbformat": 4,
 "nbformat_minor": 2
}
