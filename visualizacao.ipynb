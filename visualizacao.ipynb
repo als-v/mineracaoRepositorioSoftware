{
 "cells": [
  {
   "cell_type": "markdown",
   "metadata": {},
   "source": [
    "### Visualização e Análise dos Dados\n",
    "A partir dos dados minerados e armazenados em ```'data.csv'```, separaremos eles em 2 conjuntos diferentes, conjunto de teste e de validação.\n",
    "\n",
    "Cada conjunto conterá as ```42``` issues com label de ```difficult``` e ```42``` difrentes issues com label de ```good first issue```. Por fim plotaremos um gráfico boxplot de cada atributo relacionado a cada conjunto, calculando em seguida o ```p-value```. Através do ```p-value``` identificaremos a semelhança entre os dois conjunto separados por nós.\n",
    "\n",
    "Caso a nossa hipótese nula seja negada, utilizaremos o teste estátistico ```effect size```, com o objetivo de verificar quão significante é aquela característica para definição do conjunto. Ao fim, identificaremos quais são as características mais relevantes para definição dos conjuntos, caracterizados por valores maiores do que ```0.2```, representando uma característica que tem efeito médio.\n"
   ]
  },
  {
   "cell_type": "code",
   "execution_count": 14,
   "metadata": {},
   "outputs": [],
   "source": [
    "import numpy as np\n",
    "import pandas as pd\n",
    "import seaborn as sns\n",
    "from math import sqrt\n",
    "import matplotlib.pyplot as plt\n",
    "from sklearn.model_selection import train_test_split\n",
    "from scipy.stats import mannwhitneyu"
   ]
  },
  {
   "cell_type": "markdown",
   "metadata": {},
   "source": [
    "# Excluindo colunas dos dados minerados que não serão utilizados\n",
    "\n",
    "A partir do arquivo que contém todos os dados minerados, excluiremos as colunas  ```'Number'```, ```'Closed_date'``` e ```'Merge_date'```, que não serão utilizadas para análise que será realizada no futuro."
   ]
  },
  {
   "cell_type": "code",
   "execution_count": 15,
   "metadata": {},
   "outputs": [
    {
     "name": "stdout",
     "output_type": "stream",
     "text": [
      "<class 'pandas.core.frame.DataFrame'>\n",
      "RangeIndex: 1107 entries, 0 to 1106\n",
      "Data columns (total 17 columns):\n",
      " #   Column                Non-Null Count  Dtype \n",
      "---  ------                --------------  ----- \n",
      " 0   Situation             1107 non-null   object\n",
      " 1   Nivel                 1107 non-null   object\n",
      " 2   Imports               1107 non-null   int64 \n",
      " 3   Changed_files         1107 non-null   int64 \n",
      " 4   Changes               1107 non-null   int64 \n",
      " 5   Deletion              1107 non-null   int64 \n",
      " 6   Aditions              1107 non-null   int64 \n",
      " 7   Size_body             1107 non-null   int64 \n",
      " 8   PR_comments           1107 non-null   int64 \n",
      " 9   PR_size_comments      1107 non-null   int64 \n",
      " 10  Review_comments       1107 non-null   int64 \n",
      " 11  Review_size_comments  1107 non-null   int64 \n",
      " 12  Issue_comments        1107 non-null   int64 \n",
      " 13  Issue_size_comments   1107 non-null   int64 \n",
      " 14  Qtd_labels_pr         1107 non-null   int64 \n",
      " 15  Qtd_labels_issue      1107 non-null   int64 \n",
      " 16  Commits               1107 non-null   int64 \n",
      "dtypes: int64(15), object(2)\n",
      "memory usage: 147.1+ KB\n",
      "None\n"
     ]
    },
    {
     "data": {
      "text/html": [
       "<div>\n",
       "<style scoped>\n",
       "    .dataframe tbody tr th:only-of-type {\n",
       "        vertical-align: middle;\n",
       "    }\n",
       "\n",
       "    .dataframe tbody tr th {\n",
       "        vertical-align: top;\n",
       "    }\n",
       "\n",
       "    .dataframe thead th {\n",
       "        text-align: right;\n",
       "    }\n",
       "</style>\n",
       "<table border=\"1\" class=\"dataframe\">\n",
       "  <thead>\n",
       "    <tr style=\"text-align: right;\">\n",
       "      <th></th>\n",
       "      <th>Situation</th>\n",
       "      <th>Nivel</th>\n",
       "      <th>Imports</th>\n",
       "      <th>Changed_files</th>\n",
       "      <th>Changes</th>\n",
       "      <th>Deletion</th>\n",
       "      <th>Aditions</th>\n",
       "      <th>Size_body</th>\n",
       "      <th>PR_comments</th>\n",
       "      <th>PR_size_comments</th>\n",
       "      <th>Review_comments</th>\n",
       "      <th>Review_size_comments</th>\n",
       "      <th>Issue_comments</th>\n",
       "      <th>Issue_size_comments</th>\n",
       "      <th>Qtd_labels_pr</th>\n",
       "      <th>Qtd_labels_issue</th>\n",
       "      <th>Commits</th>\n",
       "    </tr>\n",
       "  </thead>\n",
       "  <tbody>\n",
       "    <tr>\n",
       "      <th>0</th>\n",
       "      <td>Open</td>\n",
       "      <td>Difficult</td>\n",
       "      <td>0</td>\n",
       "      <td>5</td>\n",
       "      <td>27</td>\n",
       "      <td>7</td>\n",
       "      <td>20</td>\n",
       "      <td>1100</td>\n",
       "      <td>8</td>\n",
       "      <td>1086</td>\n",
       "      <td>5</td>\n",
       "      <td>1086</td>\n",
       "      <td>7</td>\n",
       "      <td>1752</td>\n",
       "      <td>3</td>\n",
       "      <td>4</td>\n",
       "      <td>1</td>\n",
       "    </tr>\n",
       "    <tr>\n",
       "      <th>1</th>\n",
       "      <td>Open</td>\n",
       "      <td>Difficult</td>\n",
       "      <td>0</td>\n",
       "      <td>1</td>\n",
       "      <td>5</td>\n",
       "      <td>1</td>\n",
       "      <td>4</td>\n",
       "      <td>157</td>\n",
       "      <td>0</td>\n",
       "      <td>0</td>\n",
       "      <td>0</td>\n",
       "      <td>0</td>\n",
       "      <td>0</td>\n",
       "      <td>0</td>\n",
       "      <td>1</td>\n",
       "      <td>3</td>\n",
       "      <td>1</td>\n",
       "    </tr>\n",
       "    <tr>\n",
       "      <th>2</th>\n",
       "      <td>Open</td>\n",
       "      <td>Difficult</td>\n",
       "      <td>0</td>\n",
       "      <td>10</td>\n",
       "      <td>427</td>\n",
       "      <td>37</td>\n",
       "      <td>390</td>\n",
       "      <td>81</td>\n",
       "      <td>4</td>\n",
       "      <td>2598</td>\n",
       "      <td>8</td>\n",
       "      <td>2598</td>\n",
       "      <td>3</td>\n",
       "      <td>516</td>\n",
       "      <td>2</td>\n",
       "      <td>3</td>\n",
       "      <td>4</td>\n",
       "    </tr>\n",
       "    <tr>\n",
       "      <th>3</th>\n",
       "      <td>Open</td>\n",
       "      <td>Difficult</td>\n",
       "      <td>9</td>\n",
       "      <td>11</td>\n",
       "      <td>870</td>\n",
       "      <td>6</td>\n",
       "      <td>864</td>\n",
       "      <td>47</td>\n",
       "      <td>11</td>\n",
       "      <td>3886</td>\n",
       "      <td>14</td>\n",
       "      <td>3886</td>\n",
       "      <td>10</td>\n",
       "      <td>5529</td>\n",
       "      <td>3</td>\n",
       "      <td>4</td>\n",
       "      <td>3</td>\n",
       "    </tr>\n",
       "    <tr>\n",
       "      <th>4</th>\n",
       "      <td>Open</td>\n",
       "      <td>Difficult</td>\n",
       "      <td>4</td>\n",
       "      <td>15</td>\n",
       "      <td>106</td>\n",
       "      <td>46</td>\n",
       "      <td>60</td>\n",
       "      <td>334</td>\n",
       "      <td>5</td>\n",
       "      <td>0</td>\n",
       "      <td>0</td>\n",
       "      <td>0</td>\n",
       "      <td>3</td>\n",
       "      <td>525</td>\n",
       "      <td>2</td>\n",
       "      <td>4</td>\n",
       "      <td>4</td>\n",
       "    </tr>\n",
       "  </tbody>\n",
       "</table>\n",
       "</div>"
      ],
      "text/plain": [
       "  Situation      Nivel  Imports  Changed_files  Changes  Deletion  Aditions  \\\n",
       "0      Open  Difficult        0              5       27         7        20   \n",
       "1      Open  Difficult        0              1        5         1         4   \n",
       "2      Open  Difficult        0             10      427        37       390   \n",
       "3      Open  Difficult        9             11      870         6       864   \n",
       "4      Open  Difficult        4             15      106        46        60   \n",
       "\n",
       "   Size_body  PR_comments  PR_size_comments  Review_comments  \\\n",
       "0       1100            8              1086                5   \n",
       "1        157            0                 0                0   \n",
       "2         81            4              2598                8   \n",
       "3         47           11              3886               14   \n",
       "4        334            5                 0                0   \n",
       "\n",
       "   Review_size_comments  Issue_comments  Issue_size_comments  Qtd_labels_pr  \\\n",
       "0                  1086               7                 1752              3   \n",
       "1                     0               0                    0              1   \n",
       "2                  2598               3                  516              2   \n",
       "3                  3886              10                 5529              3   \n",
       "4                     0               3                  525              2   \n",
       "\n",
       "   Qtd_labels_issue  Commits  \n",
       "0                 4        1  \n",
       "1                 3        1  \n",
       "2                 3        4  \n",
       "3                 4        3  \n",
       "4                 4        4  "
      ]
     },
     "execution_count": 15,
     "metadata": {},
     "output_type": "execute_result"
    }
   ],
   "source": [
    "df = pd.read_csv('data/data.csv', sep=';')\n",
    "df = df.drop(columns=['Number', 'Closed_date', 'Merge_date', 'Diff_MergeLastModify', 'Create_date', 'Diff_CreateNow'])\n",
    "\n",
    "print(df.info())\n",
    "df.head(5)"
   ]
  },
  {
   "cell_type": "markdown",
   "metadata": {},
   "source": [
    "# Separando dados apenas por issues fechadas\n",
    "Abaixo separamos os conjuntos  ```fáceis``` e  ```dificeis``` contendo apenas issues  ```fechadas```."
   ]
  },
  {
   "cell_type": "code",
   "execution_count": 16,
   "metadata": {},
   "outputs": [],
   "source": [
    "# separar os dados em faceis/difíceis\n",
    "dfEasy = df.loc[(df['Situation'] == 'Closed') & (df['Nivel'] == 'Easy')]\n",
    "dfDifficult = df.loc[(df['Situation'] == 'Closed') & (df['Nivel'] == 'Difficult')]"
   ]
  },
  {
   "cell_type": "markdown",
   "metadata": {},
   "source": [
    "# Separando dados em conjuntos de teste e validação\n",
    "Para análise dos dados e verificação da distribuição em conjuntos diferentes, separamos os dados em dois conjuntos, validação e teste, os quais contém as mesmas  ```42``` issues fáceis e ```42``` diferentes issues classificadas como dificeis."
   ]
  },
  {
   "cell_type": "code",
   "execution_count": 17,
   "metadata": {},
   "outputs": [
    {
     "data": {
      "text/plain": [
       "(890, 42, 42)"
      ]
     },
     "execution_count": 17,
     "metadata": {},
     "output_type": "execute_result"
    }
   ],
   "source": [
    "y = dfEasy['Nivel']\n",
    "X = dfEasy.values\n",
    "\n",
    "X_train, X_test, y_train, y_test = train_test_split(X, y, test_size=0.043, shuffle=True)\n",
    "\n",
    "X_train, X_val, y_train, y_val = train_test_split(X_train, y_train, test_size=0.044, shuffle=True)\n",
    "\n",
    "dfTeste = pd.DataFrame(np.concatenate((dfDifficult.values, X_test), axis=0), columns=df.columns) \n",
    "dfValid =  pd.DataFrame(np.concatenate((dfDifficult.values, X_val), axis=0), columns=df.columns)\n",
    "valid =  pd.DataFrame(X_val, columns=df.columns)\n",
    "valid['Nivel'] = 'Easy valid'\n",
    "\n",
    "dfAll = pd.DataFrame(np.concatenate((dfDifficult.values, X_test, valid.values), axis=0), columns=df.columns) \n",
    "dfAll.loc[dfAll['Nivel'] == 'Easy', 'Nivel'] = 'Easy Train'\n",
    "\n",
    "len(X_train), len(X_test), len(X_val)"
   ]
  },
  {
   "cell_type": "code",
   "execution_count": 18,
   "metadata": {},
   "outputs": [
    {
     "data": {
      "text/html": [
       "<div>\n",
       "<style scoped>\n",
       "    .dataframe tbody tr th:only-of-type {\n",
       "        vertical-align: middle;\n",
       "    }\n",
       "\n",
       "    .dataframe tbody tr th {\n",
       "        vertical-align: top;\n",
       "    }\n",
       "\n",
       "    .dataframe thead tr th {\n",
       "        text-align: left;\n",
       "    }\n",
       "\n",
       "    .dataframe thead tr:last-of-type th {\n",
       "        text-align: right;\n",
       "    }\n",
       "</style>\n",
       "<table border=\"1\" class=\"dataframe\">\n",
       "  <thead>\n",
       "    <tr>\n",
       "      <th></th>\n",
       "      <th colspan=\"4\" halign=\"left\">Situation</th>\n",
       "      <th colspan=\"4\" halign=\"left\">Imports</th>\n",
       "      <th colspan=\"2\" halign=\"left\">Changed_files</th>\n",
       "      <th>...</th>\n",
       "      <th colspan=\"2\" halign=\"left\">Qtd_labels_pr</th>\n",
       "      <th colspan=\"4\" halign=\"left\">Qtd_labels_issue</th>\n",
       "      <th colspan=\"4\" halign=\"left\">Commits</th>\n",
       "    </tr>\n",
       "    <tr>\n",
       "      <th></th>\n",
       "      <th>count</th>\n",
       "      <th>unique</th>\n",
       "      <th>top</th>\n",
       "      <th>freq</th>\n",
       "      <th>count</th>\n",
       "      <th>unique</th>\n",
       "      <th>top</th>\n",
       "      <th>freq</th>\n",
       "      <th>count</th>\n",
       "      <th>unique</th>\n",
       "      <th>...</th>\n",
       "      <th>top</th>\n",
       "      <th>freq</th>\n",
       "      <th>count</th>\n",
       "      <th>unique</th>\n",
       "      <th>top</th>\n",
       "      <th>freq</th>\n",
       "      <th>count</th>\n",
       "      <th>unique</th>\n",
       "      <th>top</th>\n",
       "      <th>freq</th>\n",
       "    </tr>\n",
       "    <tr>\n",
       "      <th>Nivel</th>\n",
       "      <th></th>\n",
       "      <th></th>\n",
       "      <th></th>\n",
       "      <th></th>\n",
       "      <th></th>\n",
       "      <th></th>\n",
       "      <th></th>\n",
       "      <th></th>\n",
       "      <th></th>\n",
       "      <th></th>\n",
       "      <th></th>\n",
       "      <th></th>\n",
       "      <th></th>\n",
       "      <th></th>\n",
       "      <th></th>\n",
       "      <th></th>\n",
       "      <th></th>\n",
       "      <th></th>\n",
       "      <th></th>\n",
       "      <th></th>\n",
       "      <th></th>\n",
       "    </tr>\n",
       "  </thead>\n",
       "  <tbody>\n",
       "    <tr>\n",
       "      <th>Difficult</th>\n",
       "      <td>42</td>\n",
       "      <td>1</td>\n",
       "      <td>Closed</td>\n",
       "      <td>42</td>\n",
       "      <td>42</td>\n",
       "      <td>5</td>\n",
       "      <td>0</td>\n",
       "      <td>32</td>\n",
       "      <td>42</td>\n",
       "      <td>12</td>\n",
       "      <td>...</td>\n",
       "      <td>1</td>\n",
       "      <td>16</td>\n",
       "      <td>42</td>\n",
       "      <td>7</td>\n",
       "      <td>4</td>\n",
       "      <td>9</td>\n",
       "      <td>42</td>\n",
       "      <td>8</td>\n",
       "      <td>1</td>\n",
       "      <td>22</td>\n",
       "    </tr>\n",
       "    <tr>\n",
       "      <th>Easy Train</th>\n",
       "      <td>42</td>\n",
       "      <td>1</td>\n",
       "      <td>Closed</td>\n",
       "      <td>42</td>\n",
       "      <td>42</td>\n",
       "      <td>4</td>\n",
       "      <td>0</td>\n",
       "      <td>37</td>\n",
       "      <td>42</td>\n",
       "      <td>13</td>\n",
       "      <td>...</td>\n",
       "      <td>0</td>\n",
       "      <td>23</td>\n",
       "      <td>42</td>\n",
       "      <td>5</td>\n",
       "      <td>3</td>\n",
       "      <td>20</td>\n",
       "      <td>42</td>\n",
       "      <td>9</td>\n",
       "      <td>1</td>\n",
       "      <td>28</td>\n",
       "    </tr>\n",
       "    <tr>\n",
       "      <th>Easy valid</th>\n",
       "      <td>42</td>\n",
       "      <td>1</td>\n",
       "      <td>Closed</td>\n",
       "      <td>42</td>\n",
       "      <td>42</td>\n",
       "      <td>5</td>\n",
       "      <td>0</td>\n",
       "      <td>32</td>\n",
       "      <td>42</td>\n",
       "      <td>12</td>\n",
       "      <td>...</td>\n",
       "      <td>0</td>\n",
       "      <td>24</td>\n",
       "      <td>42</td>\n",
       "      <td>5</td>\n",
       "      <td>3</td>\n",
       "      <td>20</td>\n",
       "      <td>42</td>\n",
       "      <td>8</td>\n",
       "      <td>1</td>\n",
       "      <td>22</td>\n",
       "    </tr>\n",
       "  </tbody>\n",
       "</table>\n",
       "<p>3 rows × 64 columns</p>\n",
       "</div>"
      ],
      "text/plain": [
       "           Situation                     Imports                  \\\n",
       "               count unique     top freq   count unique top freq   \n",
       "Nivel                                                              \n",
       "Difficult         42      1  Closed   42      42      5   0   32   \n",
       "Easy Train        42      1  Closed   42      42      4   0   37   \n",
       "Easy valid        42      1  Closed   42      42      5   0   32   \n",
       "\n",
       "           Changed_files         ... Qtd_labels_pr      Qtd_labels_issue  \\\n",
       "                   count unique  ...           top freq            count   \n",
       "Nivel                            ...                                       \n",
       "Difficult             42     12  ...             1   16               42   \n",
       "Easy Train            42     13  ...             0   23               42   \n",
       "Easy valid            42     12  ...             0   24               42   \n",
       "\n",
       "                           Commits                  \n",
       "           unique top freq   count unique top freq  \n",
       "Nivel                                               \n",
       "Difficult       7   4    9      42      8   1   22  \n",
       "Easy Train      5   3   20      42      9   1   28  \n",
       "Easy valid      5   3   20      42      8   1   22  \n",
       "\n",
       "[3 rows x 64 columns]"
      ]
     },
     "execution_count": 18,
     "metadata": {},
     "output_type": "execute_result"
    }
   ],
   "source": [
    "dfAll.groupby('Nivel').describe()"
   ]
  },
  {
   "cell_type": "markdown",
   "metadata": {},
   "source": [
    "# Plotando boxplot e realização de testes estátistico \n",
    "Primeiramente, plotamos um boxblot para cada atributo da base de dados (treino, teste e validação), e em seguida é feito o cálculo do valor de ```p-value``` para eles. Considerando que o valor de ```p-value``` seja menor que ```0.05```, podemos negar a hipótese nula, ou seja, podemos afirmar que ambos conjuntos são estátisticamente distintos, e caso forem, calculamos o valor de ```d``` (significância), para saber quão distintos eles realmente são."
   ]
  },
  {
   "cell_type": "code",
   "execution_count": 19,
   "metadata": {},
   "outputs": [
    {
     "name": "stdout",
     "output_type": "stream",
     "text": [
      "Bloxpot para o atributo:  Imports\n"
     ]
    },
    {
     "data": {
      "image/png": "[encoded data removed]",
      "text/plain": [
       "<Figure size 432x288 with 1 Axes>"
      ]
     },
     "metadata": {
      "needs_background": "light"
     },
     "output_type": "display_data"
    },
    {
     "name": "stdout",
     "output_type": "stream",
     "text": [
      "Não podemos regeitar a hipotese nula para os dados: Dificil X Easy Train\n",
      "p:  0.3517130164207493\n",
      "\n",
      "Não podemos regeitar a hipotese nula para os dados: Dificil X Easy Valid\n",
      "p:  0.9893511307207132\n",
      "\n",
      "Bloxpot para o atributo:  Changed_files\n"
     ]
    },
    {
     "data": {
      "image/png": "[encoded data removed]",
      "text/plain": [
       "<Figure size 432x288 with 1 Axes>"
      ]
     },
     "metadata": {
      "needs_background": "light"
     },
     "output_type": "display_data"
    },
    {
     "name": "stdout",
     "output_type": "stream",
     "text": [
      "Não podemos regeitar a hipotese nula para os dados: Dificil X Easy Train\n",
      "p:  0.25549204520168634\n",
      "\n",
      "Não podemos regeitar a hipotese nula para os dados: Dificil X Easy Valid\n",
      "p:  0.16229097988491667\n",
      "\n",
      "Bloxpot para o atributo:  Changes\n"
     ]
    },
    {
     "data": {
      "image/png": "[encoded data removed]",
      "text/plain": [
       "<Figure size 432x288 with 1 Axes>"
      ]
     },
     "metadata": {
      "needs_background": "light"
     },
     "output_type": "display_data"
    },
    {
     "name": "stdout",
     "output_type": "stream",
     "text": [
      "Hipotese nula regeitada para os dados: Dificil X Easy Train\n",
      "p:  0.024486527431108348\n",
      "d:  -0.11192475259280492 \n",
      "Pelo valor de \"d\", temos que a diferença dos conjuntos é trivial\n",
      "\n",
      "Não podemos regeitar a hipotese nula para os dados: Dificil X Easy Valid\n",
      "p:  0.06191619871289821\n",
      "\n",
      "Bloxpot para o atributo:  Deletion\n"
     ]
    },
    {
     "data": {
      "image/png": "[encoded data removed]",
      "text/plain": [
       "<Figure size 432x288 with 1 Axes>"
      ]
     },
     "metadata": {
      "needs_background": "light"
     },
     "output_type": "display_data"
    },
    {
     "name": "stdout",
     "output_type": "stream",
     "text": [
      "Não podemos regeitar a hipotese nula para os dados: Dificil X Easy Train\n",
      "p:  0.09900140069011382\n",
      "\n",
      "Não podemos regeitar a hipotese nula para os dados: Dificil X Easy Valid\n",
      "p:  0.24807690008919744\n",
      "\n",
      "Bloxpot para o atributo:  Aditions\n"
     ]
    },
    {
     "data": {
      "image/png": "[encoded data removed]",
      "text/plain": [
       "<Figure size 432x288 with 1 Axes>"
      ]
     },
     "metadata": {
      "needs_background": "light"
     },
     "output_type": "display_data"
    },
    {
     "name": "stdout",
     "output_type": "stream",
     "text": [
      "Hipotese nula regeitada para os dados: Dificil X Easy Train\n",
      "p:  0.038749395235424464\n",
      "d:  -0.12761244367652586 \n",
      "Pelo valor de \"d\", temos que a diferença dos conjuntos é trivial\n",
      "\n",
      "Não podemos regeitar a hipotese nula para os dados: Dificil X Easy Valid\n",
      "p:  0.06449229885156851\n",
      "\n",
      "Bloxpot para o atributo:  Size_body\n"
     ]
    },
    {
     "data": {
      "image/png": "[encoded data removed]",
      "text/plain": [
       "<Figure size 432x288 with 1 Axes>"
      ]
     },
     "metadata": {
      "needs_background": "light"
     },
     "output_type": "display_data"
    },
    {
     "name": "stdout",
     "output_type": "stream",
     "text": [
      "Hipotese nula regeitada para os dados: Dificil X Easy Train\n",
      "p:  3.500303365012712e-05\n",
      "d:  0.7550640123320014 \n",
      "Pelo valor de \"d\", temos que a diferença dos conjuntos é medio significativo\n",
      "\n",
      "Hipotese nula regeitada para os dados: Dificil X Easy Valid\n",
      "p:  0.004384464816074378\n",
      "d:  0.5369867988694684 \n",
      "Pelo valor de \"d\", temos que a diferença dos conjuntos é medio significativo\n",
      "\n",
      "Bloxpot para o atributo:  PR_comments\n"
     ]
    },
    {
     "data": {
      "image/png": "[encoded data removed]",
      "text/plain": [
       "<Figure size 432x288 with 1 Axes>"
      ]
     },
     "metadata": {
      "needs_background": "light"
     },
     "output_type": "display_data"
    },
    {
     "name": "stdout",
     "output_type": "stream",
     "text": [
      "Não podemos regeitar a hipotese nula para os dados: Dificil X Easy Train\n",
      "p:  0.39983537158017995\n",
      "\n",
      "Não podemos regeitar a hipotese nula para os dados: Dificil X Easy Valid\n",
      "p:  0.46247184725850077\n",
      "\n",
      "Bloxpot para o atributo:  PR_size_comments\n"
     ]
    },
    {
     "data": {
      "image/png": "[encoded data removed]",
      "text/plain": [
       "<Figure size 432x288 with 1 Axes>"
      ]
     },
     "metadata": {
      "needs_background": "light"
     },
     "output_type": "display_data"
    },
    {
     "name": "stdout",
     "output_type": "stream",
     "text": [
      "Não podemos regeitar a hipotese nula para os dados: Dificil X Easy Train\n",
      "p:  0.5478444775725548\n",
      "\n",
      "Não podemos regeitar a hipotese nula para os dados: Dificil X Easy Valid\n",
      "p:  0.1393030481014573\n",
      "\n",
      "Bloxpot para o atributo:  Review_comments\n"
     ]
    },
    {
     "data": {
      "image/png": "[encoded data removed]",
      "text/plain": [
       "<Figure size 432x288 with 1 Axes>"
      ]
     },
     "metadata": {
      "needs_background": "light"
     },
     "output_type": "display_data"
    },
    {
     "name": "stdout",
     "output_type": "stream",
     "text": [
      "Não podemos regeitar a hipotese nula para os dados: Dificil X Easy Train\n",
      "p:  0.5185542585451463\n",
      "\n",
      "Não podemos regeitar a hipotese nula para os dados: Dificil X Easy Valid\n",
      "p:  0.1517470540309006\n",
      "\n",
      "Bloxpot para o atributo:  Review_size_comments\n"
     ]
    },
    {
     "data": {
      "image/png": "[encoded data removed]",
      "text/plain": [
       "<Figure size 432x288 with 1 Axes>"
      ]
     },
     "metadata": {
      "needs_background": "light"
     },
     "output_type": "display_data"
    },
    {
     "name": "stdout",
     "output_type": "stream",
     "text": [
      "Não podemos regeitar a hipotese nula para os dados: Dificil X Easy Train\n",
      "p:  0.5478444775725548\n",
      "\n",
      "Não podemos regeitar a hipotese nula para os dados: Dificil X Easy Valid\n",
      "p:  0.1393030481014573\n",
      "\n",
      "Bloxpot para o atributo:  Issue_comments\n"
     ]
    },
    {
     "data": {
      "image/png": "[encoded data removed]",
      "text/plain": [
       "<Figure size 432x288 with 1 Axes>"
      ]
     },
     "metadata": {
      "needs_background": "light"
     },
     "output_type": "display_data"
    },
    {
     "name": "stdout",
     "output_type": "stream",
     "text": [
      "Não podemos regeitar a hipotese nula para os dados: Dificil X Easy Train\n",
      "p:  0.44101356208576165\n",
      "\n",
      "Não podemos regeitar a hipotese nula para os dados: Dificil X Easy Valid\n",
      "p:  0.7052409121058483\n",
      "\n",
      "Bloxpot para o atributo:  Issue_size_comments\n"
     ]
    },
    {
     "data": {
      "image/png": "[encoded data removed]",
      "text/plain": [
       "<Figure size 432x288 with 1 Axes>"
      ]
     },
     "metadata": {
      "needs_background": "light"
     },
     "output_type": "display_data"
    },
    {
     "name": "stdout",
     "output_type": "stream",
     "text": [
      "Não podemos regeitar a hipotese nula para os dados: Dificil X Easy Train\n",
      "p:  0.9326345534117977\n",
      "\n",
      "Não podemos regeitar a hipotese nula para os dados: Dificil X Easy Valid\n",
      "p:  0.3753029421250034\n",
      "\n",
      "Bloxpot para o atributo:  Qtd_labels_pr\n"
     ]
    },
    {
     "data": {
      "image/png": "[encoded data removed]",
      "text/plain": [
       "<Figure size 432x288 with 1 Axes>"
      ]
     },
     "metadata": {
      "needs_background": "light"
     },
     "output_type": "display_data"
    },
    {
     "name": "stdout",
     "output_type": "stream",
     "text": [
      "Hipotese nula regeitada para os dados: Dificil X Easy Train\n",
      "p:  9.606994178388118e-11\n",
      "d:  1.606634026084626 \n",
      "Pelo valor de \"d\", temos que a diferença dos conjuntos é bastante significativo\n",
      "\n",
      "Hipotese nula regeitada para os dados: Dificil X Easy Valid\n",
      "p:  6.21839827529815e-12\n",
      "d:  1.6768244158469745 \n",
      "Pelo valor de \"d\", temos que a diferença dos conjuntos é bastante significativo\n",
      "\n",
      "Bloxpot para o atributo:  Qtd_labels_issue\n"
     ]
    },
    {
     "data": {
      "image/png": "[encoded data removed]",
      "text/plain": [
       "<Figure size 432x288 with 1 Axes>"
      ]
     },
     "metadata": {
      "needs_background": "light"
     },
     "output_type": "display_data"
    },
    {
     "name": "stdout",
     "output_type": "stream",
     "text": [
      "Não podemos regeitar a hipotese nula para os dados: Dificil X Easy Train\n",
      "p:  0.10086294110835131\n",
      "\n",
      "Não podemos regeitar a hipotese nula para os dados: Dificil X Easy Valid\n",
      "p:  0.25925619349324536\n",
      "\n",
      "Bloxpot para o atributo:  Commits\n"
     ]
    },
    {
     "data": {
      "image/png": "[encoded data removed]",
      "text/plain": [
       "<Figure size 432x288 with 1 Axes>"
      ]
     },
     "metadata": {
      "needs_background": "light"
     },
     "output_type": "display_data"
    },
    {
     "name": "stdout",
     "output_type": "stream",
     "text": [
      "Não podemos regeitar a hipotese nula para os dados: Dificil X Easy Train\n",
      "p:  0.18204329243115208\n",
      "\n",
      "Não podemos regeitar a hipotese nula para os dados: Dificil X Easy Valid\n",
      "p:  0.8482778388891786\n",
      "\n"
     ]
    }
   ],
   "source": [
    "def cohend(d1, d2):\n",
    "\tn1, n2 = len(d1), len(d2)\n",
    "\ts1, s2 = np.var(d1, ddof=1), np.var(d2, ddof=1)\n",
    "\ts = sqrt(((n1 - 1) * s1 + (n2 - 1) * s2) / (n1 + n2 - 2))\n",
    "\tu1, u2 = np.mean(d1), np.mean(d2)\n",
    "\treturn (u1 - u2) / s\n",
    "\n",
    "for column in dfAll.columns[2:]:\n",
    "    print('Bloxpot para o atributo: ', column)\n",
    "    sns.boxplot(data=dfAll, y=column, x='Nivel')\n",
    "    plt.show()\n",
    "\n",
    "    U1, p = mannwhitneyu(dfAll.loc[dfAll['Nivel'] == 'Difficult', column].values.tolist(), dfAll.loc[dfAll['Nivel'] == 'Easy Train', column].values.tolist(), method=\"exact\")\n",
    "\n",
    "    if p < 0.05:\n",
    "        print('Hipotese nula regeitada para os dados: Dificil X Easy Train\\np: ', p)\n",
    "        d = cohend(dfAll.loc[dfAll['Nivel'] == 'Difficult', column].values.tolist(), dfAll.loc[dfAll['Nivel'] == 'Easy Train', column].values.tolist())\n",
    "\n",
    "        text = ''\n",
    "        if d < 0.20:\n",
    "            text = 'trivial'\n",
    "        elif d >= 0.20 and d < 0.50:\n",
    "            text = 'pouco significativo'\n",
    "        elif d >= 0.50 and d < 0.80:\n",
    "            text = 'medio significativo'\n",
    "        elif d >= 0.80:\n",
    "            text = 'bastante significativo'\n",
    "\n",
    "        print('d: ', d, '\\nPelo valor de \"d\", temos que a diferença dos conjuntos é', text, end='\\n\\n')\n",
    "    else:\n",
    "        print('Não podemos regeitar a hipotese nula para os dados: Dificil X Easy Train\\np: ', p, end='\\n\\n')\n",
    "\n",
    "    U1, p = mannwhitneyu(dfAll.loc[dfAll['Nivel'] == 'Difficult', column].values.tolist(), dfAll.loc[dfAll['Nivel'] == 'Easy valid', column].values.tolist(), method=\"exact\")\n",
    "\n",
    "    if p < 0.05:\n",
    "        print('Hipotese nula regeitada para os dados: Dificil X Easy Valid\\np: ', p)\n",
    "        d = cohend(dfAll.loc[dfAll['Nivel'] == 'Difficult', column].values.tolist(), dfAll.loc[dfAll['Nivel'] == 'Easy valid', column].values.tolist())\n",
    "\n",
    "        text = ''\n",
    "        if d < 0.20:\n",
    "            text = 'trivial'\n",
    "        elif d >= 0.20 and d < 0.50:\n",
    "            text = 'pouco significativo'\n",
    "        elif d >= 0.50 and d < 0.80:\n",
    "            text = 'medio significativo'\n",
    "        elif d >= 0.80:\n",
    "            text = 'bastante significativo'\n",
    "\n",
    "        print('d: ', d, '\\nPelo valor de \"d\", temos que a diferença dos conjuntos é', text, end='\\n\\n')\n",
    "    else:\n",
    "        print('Não podemos regeitar a hipotese nula para os dados: Dificil X Easy Valid\\np: ', p, end='\\n\\n')\n"
   ]
  }
 ],
 "metadata": {
  "interpreter": {
   "hash": "a01cbe3509f40fe8fbb70f6e35a414a4aeac5b623ad71bdf179810de598dc153"
  },
  "kernelspec": {
   "display_name": "Python 3.9.7 64-bit",
   "language": "python",
   "name": "python3"
  },
  "language_info": {
   "codemirror_mode": {
    "name": "ipython",
    "version": 3
   },
   "file_extension": ".py",
   "mimetype": "text/x-python",
   "name": "python",
   "nbconvert_exporter": "python",
   "pygments_lexer": "ipython3",
   "version": "3.9.7"
  },
  "orig_nbformat": 4
 },
 "nbformat": 4,
 "nbformat_minor": 2
}
