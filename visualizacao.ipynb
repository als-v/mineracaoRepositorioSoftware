{
 "cells": [
  {
   "cell_type": "code",
   "execution_count": null,
   "metadata": {},
   "outputs": [],
   "source": [
    "import numpy as np\n",
    "import pandas as pd\n",
    "import seaborn as sns\n",
    "import plotly.express as px\n",
    "import matplotlib.pyplot as plt\n",
    "from sklearn.impute import SimpleImputer\n",
    "from sklearn.compose import ColumnTransformer\n",
    "from sklearn.preprocessing import StandardScaler\n",
    "from sklearn.model_selection import train_test_split"
   ]
  },
  {
   "cell_type": "code",
   "execution_count": null,
   "metadata": {},
   "outputs": [],
   "source": [
    "df = pd.read_csv('data/data.csv', sep=';')\n",
    "df = df.drop(columns=['Number', 'Closed_date', 'Merge_date', 'Diff_MergeLastModify', 'Create_date', 'Diff_CreateNow'])\n",
    "\n",
    "print(df.info())\n",
    "df.head(5)"
   ]
  },
  {
   "cell_type": "code",
   "execution_count": null,
   "metadata": {},
   "outputs": [],
   "source": [
    "# separar os dados em faceis/difíceis\n",
    "dfEasy = df.loc[(df['Situation'] == 'Closed') & (df['Nivel'] == 'Easy')]\n",
    "dfDifficult = df.loc[(df['Situation'] == 'Closed') & (df['Nivel'] == 'Difficult')]"
   ]
  },
  {
   "cell_type": "code",
   "execution_count": null,
   "metadata": {},
   "outputs": [],
   "source": [
    "y = dfEasy['Nivel']\n",
    "X = dfEasy.values\n",
    "\n",
    "X_train, X_test, y_train, y_test = train_test_split(X, y, test_size=0.043, shuffle=True)\n",
    "\n",
    "X_train, X_val, y_train, y_val = train_test_split(X_train, y_train, test_size=0.044, shuffle=True)\n",
    "\n",
    "dfTeste = pd.DataFrame(np.concatenate((dfDifficult.values, X_test), axis=0), columns=df.columns) \n",
    "dfValid =  pd.DataFrame(np.concatenate((dfDifficult.values, X_val), axis=0), columns=df.columns)\n",
    "\n",
    "len(X_train), len(X_test), len(X_val)"
   ]
  },
  {
   "cell_type": "code",
   "execution_count": null,
   "metadata": {},
   "outputs": [],
   "source": [
    "columns = ['Imports', 'Changed_files', 'Changes', 'Deletion','Aditions', 'Size_body', 'PR_comments', 'PR_size_comments','Review_comments', 'Review_size_comments', 'Issue_comments','Issue_size_comments', 'Qtd_labels', 'Commits']\n",
    "\n",
    "def showHistogram(df, label):\n",
    "    print('Histograma para os dados de ', label)\n",
    "    \n",
    "    for idx, column in enumerate(columns):\n",
    "        for columnAgn in columns[idx+1:]:\n",
    "            # sns.histplot(data=df[column], bins=10, x=column, hue='Nivel', multiple='dodge', shrink=0.8)\n",
    "            sns.scatterplot(data=df, x=column, y=columnAgn, hue='Nivel')\n",
    "            plt.show()\n",
    "\n",
    "# for idx, data in enumerate(dfTeste.loc[dfTeste['Nivel'] == 'Difficult']['Deletion']):\n",
    "#     if dfValid.loc[dfValid['Nivel'] == 'Difficult']['Deletion'][idx] != data:\n",
    "#         print('IDX: ', idx)\n",
    "\n",
    "showHistogram(dfTeste, 'teste:')\n",
    "showHistogram(dfValid, 'validação:')"
   ]
  },
  {
   "cell_type": "code",
   "execution_count": null,
   "metadata": {},
   "outputs": [],
   "source": [
    "df.groupby('Nivel').describe()"
   ]
  },
  {
   "cell_type": "code",
   "execution_count": null,
   "metadata": {},
   "outputs": [],
   "source": [
    "# columns = [['Commits', 'Issue_comments'], ['Qtd_labels', 'Commits'], ['Qtd_labels', 'Issue_comments']]\n",
    "columns = ['Imports', 'Changed_files', 'Changes', 'Deletion','Aditions', 'Size_body', 'PR_comments', 'PR_size_comments','Review_comments', 'Review_size_comments', 'Issue_comments','Issue_size_comments', 'Qtd_labels', 'Commits']\n",
    "\n",
    "def showBoxplot(df, label):\n",
    "    print('Bloxplot para os dados de ', label)\n",
    "    \n",
    "    for idx, column in enumerate(columns):\n",
    "        for columnAgn in columns[idx+1:]:\n",
    "            sns.boxplot(data=df, x=column, y=columnAgn, hue='Nivel')\n",
    "            plt.show()\n",
    "\n",
    "showBoxplot(dfTeste, 'teste:')\n",
    "showBoxplot(dfValid, 'validação:')"
   ]
  },
  {
   "cell_type": "code",
   "execution_count": 174,
   "metadata": {},
   "outputs": [],
   "source": [
    "columns = ['Imports', 'Changed_files', 'Changes', 'Deletion', 'Aditions', 'Size_body', 'PR_comments', 'PR_size_comments', 'Review_comments', 'Review_size_comments', 'Issue_comments', 'Issue_size_comments', 'Qtd_labels', 'Commits']\n",
    "labels = ['Difficult', 'Easy']\n",
    "\n",
    "def median(df):\n",
    "    for label in labels:\n",
    "        for column in columns:\n",
    "            nivelDiff = df.loc[df['Nivel'] == label, column].values.tolist()\n",
    "            tamDiff = len(nivelDiff)\n",
    "            data = []\n",
    "\n",
    "            for values in nivelDiff:\n",
    "                data.append(values/tamDiff)\n",
    "            \n",
    "            df.loc[df['Nivel'] == label, column] = data\n",
    "\n",
    "median(dfTeste)\n",
    "median(dfValid)"
   ]
  }
 ],
 "metadata": {
  "interpreter": {
   "hash": "a01cbe3509f40fe8fbb70f6e35a414a4aeac5b623ad71bdf179810de598dc153"
  },
  "kernelspec": {
   "display_name": "Python 3.9.7 64-bit",
   "language": "python",
   "name": "python3"
  },
  "language_info": {
   "codemirror_mode": {
    "name": "ipython",
    "version": 3
   },
   "file_extension": ".py",
   "mimetype": "text/x-python",
   "name": "python",
   "nbconvert_exporter": "python",
   "pygments_lexer": "ipython3",
   "version": "3.9.7"
  },
  "orig_nbformat": 4
 },
 "nbformat": 4,
 "nbformat_minor": 2
}
