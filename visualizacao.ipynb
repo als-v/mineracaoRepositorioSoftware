{
 "cells": [
  {
   "cell_type": "code",
   "execution_count": 1,
   "metadata": {},
   "outputs": [],
   "source": [
    "import numpy as np\n",
    "import pandas as pd\n",
    "import seaborn as sns\n",
    "from math import sqrt\n",
    "import matplotlib.pyplot as plt\n",
    "from sklearn.model_selection import train_test_split\n",
    "from scipy.stats import mannwhitneyu"
   ]
  },
  {
   "cell_type": "code",
   "execution_count": 2,
   "metadata": {},
   "outputs": [
    {
     "name": "stdout",
     "output_type": "stream",
     "text": [
      "<class 'pandas.core.frame.DataFrame'>\n",
      "RangeIndex: 1107 entries, 0 to 1106\n",
      "Data columns (total 17 columns):\n",
      " #   Column                Non-Null Count  Dtype \n",
      "---  ------                --------------  ----- \n",
      " 0   Situation             1107 non-null   object\n",
      " 1   Nivel                 1107 non-null   object\n",
      " 2   Imports               1107 non-null   int64 \n",
      " 3   Changed_files         1107 non-null   int64 \n",
      " 4   Changes               1107 non-null   int64 \n",
      " 5   Deletion              1107 non-null   int64 \n",
      " 6   Aditions              1107 non-null   int64 \n",
      " 7   Size_body             1107 non-null   int64 \n",
      " 8   PR_comments           1107 non-null   int64 \n",
      " 9   PR_size_comments      1107 non-null   int64 \n",
      " 10  Review_comments       1107 non-null   int64 \n",
      " 11  Review_size_comments  1107 non-null   int64 \n",
      " 12  Issue_comments        1107 non-null   int64 \n",
      " 13  Issue_size_comments   1107 non-null   int64 \n",
      " 14  Qtd_labels_pr         1107 non-null   int64 \n",
      " 15  Qtd_labels_issue      1107 non-null   int64 \n",
      " 16  Commits               1107 non-null   int64 \n",
      "dtypes: int64(15), object(2)\n",
      "memory usage: 147.1+ KB\n",
      "None\n"
     ]
    },
    {
     "data": {
      "text/html": [
       "<div>\n",
       "<style scoped>\n",
       "    .dataframe tbody tr th:only-of-type {\n",
       "        vertical-align: middle;\n",
       "    }\n",
       "\n",
       "    .dataframe tbody tr th {\n",
       "        vertical-align: top;\n",
       "    }\n",
       "\n",
       "    .dataframe thead th {\n",
       "        text-align: right;\n",
       "    }\n",
       "</style>\n",
       "<table border=\"1\" class=\"dataframe\">\n",
       "  <thead>\n",
       "    <tr style=\"text-align: right;\">\n",
       "      <th></th>\n",
       "      <th>Situation</th>\n",
       "      <th>Nivel</th>\n",
       "      <th>Imports</th>\n",
       "      <th>Changed_files</th>\n",
       "      <th>Changes</th>\n",
       "      <th>Deletion</th>\n",
       "      <th>Aditions</th>\n",
       "      <th>Size_body</th>\n",
       "      <th>PR_comments</th>\n",
       "      <th>PR_size_comments</th>\n",
       "      <th>Review_comments</th>\n",
       "      <th>Review_size_comments</th>\n",
       "      <th>Issue_comments</th>\n",
       "      <th>Issue_size_comments</th>\n",
       "      <th>Qtd_labels_pr</th>\n",
       "      <th>Qtd_labels_issue</th>\n",
       "      <th>Commits</th>\n",
       "    </tr>\n",
       "  </thead>\n",
       "  <tbody>\n",
       "    <tr>\n",
       "      <th>0</th>\n",
       "      <td>Open</td>\n",
       "      <td>Difficult</td>\n",
       "      <td>0</td>\n",
       "      <td>5</td>\n",
       "      <td>27</td>\n",
       "      <td>7</td>\n",
       "      <td>20</td>\n",
       "      <td>1100</td>\n",
       "      <td>8</td>\n",
       "      <td>1086</td>\n",
       "      <td>5</td>\n",
       "      <td>1086</td>\n",
       "      <td>7</td>\n",
       "      <td>1752</td>\n",
       "      <td>3</td>\n",
       "      <td>4</td>\n",
       "      <td>1</td>\n",
       "    </tr>\n",
       "    <tr>\n",
       "      <th>1</th>\n",
       "      <td>Open</td>\n",
       "      <td>Difficult</td>\n",
       "      <td>0</td>\n",
       "      <td>1</td>\n",
       "      <td>5</td>\n",
       "      <td>1</td>\n",
       "      <td>4</td>\n",
       "      <td>157</td>\n",
       "      <td>0</td>\n",
       "      <td>0</td>\n",
       "      <td>0</td>\n",
       "      <td>0</td>\n",
       "      <td>0</td>\n",
       "      <td>0</td>\n",
       "      <td>1</td>\n",
       "      <td>3</td>\n",
       "      <td>1</td>\n",
       "    </tr>\n",
       "    <tr>\n",
       "      <th>2</th>\n",
       "      <td>Open</td>\n",
       "      <td>Difficult</td>\n",
       "      <td>0</td>\n",
       "      <td>10</td>\n",
       "      <td>427</td>\n",
       "      <td>37</td>\n",
       "      <td>390</td>\n",
       "      <td>81</td>\n",
       "      <td>4</td>\n",
       "      <td>2598</td>\n",
       "      <td>8</td>\n",
       "      <td>2598</td>\n",
       "      <td>3</td>\n",
       "      <td>516</td>\n",
       "      <td>2</td>\n",
       "      <td>3</td>\n",
       "      <td>4</td>\n",
       "    </tr>\n",
       "    <tr>\n",
       "      <th>3</th>\n",
       "      <td>Open</td>\n",
       "      <td>Difficult</td>\n",
       "      <td>9</td>\n",
       "      <td>11</td>\n",
       "      <td>870</td>\n",
       "      <td>6</td>\n",
       "      <td>864</td>\n",
       "      <td>47</td>\n",
       "      <td>11</td>\n",
       "      <td>3886</td>\n",
       "      <td>14</td>\n",
       "      <td>3886</td>\n",
       "      <td>10</td>\n",
       "      <td>5529</td>\n",
       "      <td>3</td>\n",
       "      <td>4</td>\n",
       "      <td>3</td>\n",
       "    </tr>\n",
       "    <tr>\n",
       "      <th>4</th>\n",
       "      <td>Open</td>\n",
       "      <td>Difficult</td>\n",
       "      <td>4</td>\n",
       "      <td>15</td>\n",
       "      <td>106</td>\n",
       "      <td>46</td>\n",
       "      <td>60</td>\n",
       "      <td>334</td>\n",
       "      <td>5</td>\n",
       "      <td>0</td>\n",
       "      <td>0</td>\n",
       "      <td>0</td>\n",
       "      <td>3</td>\n",
       "      <td>525</td>\n",
       "      <td>2</td>\n",
       "      <td>4</td>\n",
       "      <td>4</td>\n",
       "    </tr>\n",
       "  </tbody>\n",
       "</table>\n",
       "</div>"
      ],
      "text/plain": [
       "  Situation      Nivel  Imports  Changed_files  Changes  Deletion  Aditions  \\\n",
       "0      Open  Difficult        0              5       27         7        20   \n",
       "1      Open  Difficult        0              1        5         1         4   \n",
       "2      Open  Difficult        0             10      427        37       390   \n",
       "3      Open  Difficult        9             11      870         6       864   \n",
       "4      Open  Difficult        4             15      106        46        60   \n",
       "\n",
       "   Size_body  PR_comments  PR_size_comments  Review_comments  \\\n",
       "0       1100            8              1086                5   \n",
       "1        157            0                 0                0   \n",
       "2         81            4              2598                8   \n",
       "3         47           11              3886               14   \n",
       "4        334            5                 0                0   \n",
       "\n",
       "   Review_size_comments  Issue_comments  Issue_size_comments  Qtd_labels_pr  \\\n",
       "0                  1086               7                 1752              3   \n",
       "1                     0               0                    0              1   \n",
       "2                  2598               3                  516              2   \n",
       "3                  3886              10                 5529              3   \n",
       "4                     0               3                  525              2   \n",
       "\n",
       "   Qtd_labels_issue  Commits  \n",
       "0                 4        1  \n",
       "1                 3        1  \n",
       "2                 3        4  \n",
       "3                 4        3  \n",
       "4                 4        4  "
      ]
     },
     "execution_count": 2,
     "metadata": {},
     "output_type": "execute_result"
    }
   ],
   "source": [
    "df = pd.read_csv('data/data.csv', sep=';')\n",
    "df = df.drop(columns=['Number', 'Closed_date', 'Merge_date', 'Diff_MergeLastModify', 'Create_date', 'Diff_CreateNow'])\n",
    "\n",
    "print(df.info())\n",
    "df.head(5)"
   ]
  },
  {
   "cell_type": "code",
   "execution_count": 3,
   "metadata": {},
   "outputs": [],
   "source": [
    "# separar os dados em faceis/difíceis\n",
    "dfEasy = df.loc[(df['Situation'] == 'Closed') & (df['Nivel'] == 'Easy')]\n",
    "dfDifficult = df.loc[(df['Situation'] == 'Closed') & (df['Nivel'] == 'Difficult')]"
   ]
  },
  {
   "cell_type": "code",
   "execution_count": 4,
   "metadata": {},
   "outputs": [
    {
     "data": {
      "text/plain": [
       "(890, 42, 42)"
      ]
     },
     "execution_count": 4,
     "metadata": {},
     "output_type": "execute_result"
    }
   ],
   "source": [
    "y = dfEasy['Nivel']\n",
    "X = dfEasy.values\n",
    "\n",
    "X_train, X_test, y_train, y_test = train_test_split(X, y, test_size=0.043, shuffle=True)\n",
    "\n",
    "X_train, X_val, y_train, y_val = train_test_split(X_train, y_train, test_size=0.044, shuffle=True)\n",
    "\n",
    "dfTeste = pd.DataFrame(np.concatenate((dfDifficult.values, X_test), axis=0), columns=df.columns) \n",
    "dfValid =  pd.DataFrame(np.concatenate((dfDifficult.values, X_val), axis=0), columns=df.columns)\n",
    "valid =  pd.DataFrame(X_val, columns=df.columns)\n",
    "valid['Nivel'] = 'Easy valid'\n",
    "\n",
    "dfAll = pd.DataFrame(np.concatenate((dfDifficult.values, X_test, valid.values), axis=0), columns=df.columns) \n",
    "dfAll.loc[dfAll['Nivel'] == 'Easy', 'Nivel'] = 'Easy Train'\n",
    "\n",
    "len(X_train), len(X_test), len(X_val)"
   ]
  },
  {
   "cell_type": "code",
   "execution_count": 5,
   "metadata": {},
   "outputs": [
    {
     "data": {
      "text/html": [
       "<div>\n",
       "<style scoped>\n",
       "    .dataframe tbody tr th:only-of-type {\n",
       "        vertical-align: middle;\n",
       "    }\n",
       "\n",
       "    .dataframe tbody tr th {\n",
       "        vertical-align: top;\n",
       "    }\n",
       "\n",
       "    .dataframe thead tr th {\n",
       "        text-align: left;\n",
       "    }\n",
       "\n",
       "    .dataframe thead tr:last-of-type th {\n",
       "        text-align: right;\n",
       "    }\n",
       "</style>\n",
       "<table border=\"1\" class=\"dataframe\">\n",
       "  <thead>\n",
       "    <tr>\n",
       "      <th></th>\n",
       "      <th colspan=\"4\" halign=\"left\">Situation</th>\n",
       "      <th colspan=\"4\" halign=\"left\">Imports</th>\n",
       "      <th colspan=\"2\" halign=\"left\">Changed_files</th>\n",
       "      <th>...</th>\n",
       "      <th colspan=\"2\" halign=\"left\">Qtd_labels_pr</th>\n",
       "      <th colspan=\"4\" halign=\"left\">Qtd_labels_issue</th>\n",
       "      <th colspan=\"4\" halign=\"left\">Commits</th>\n",
       "    </tr>\n",
       "    <tr>\n",
       "      <th></th>\n",
       "      <th>count</th>\n",
       "      <th>unique</th>\n",
       "      <th>top</th>\n",
       "      <th>freq</th>\n",
       "      <th>count</th>\n",
       "      <th>unique</th>\n",
       "      <th>top</th>\n",
       "      <th>freq</th>\n",
       "      <th>count</th>\n",
       "      <th>unique</th>\n",
       "      <th>...</th>\n",
       "      <th>top</th>\n",
       "      <th>freq</th>\n",
       "      <th>count</th>\n",
       "      <th>unique</th>\n",
       "      <th>top</th>\n",
       "      <th>freq</th>\n",
       "      <th>count</th>\n",
       "      <th>unique</th>\n",
       "      <th>top</th>\n",
       "      <th>freq</th>\n",
       "    </tr>\n",
       "    <tr>\n",
       "      <th>Nivel</th>\n",
       "      <th></th>\n",
       "      <th></th>\n",
       "      <th></th>\n",
       "      <th></th>\n",
       "      <th></th>\n",
       "      <th></th>\n",
       "      <th></th>\n",
       "      <th></th>\n",
       "      <th></th>\n",
       "      <th></th>\n",
       "      <th></th>\n",
       "      <th></th>\n",
       "      <th></th>\n",
       "      <th></th>\n",
       "      <th></th>\n",
       "      <th></th>\n",
       "      <th></th>\n",
       "      <th></th>\n",
       "      <th></th>\n",
       "      <th></th>\n",
       "      <th></th>\n",
       "    </tr>\n",
       "  </thead>\n",
       "  <tbody>\n",
       "    <tr>\n",
       "      <th>Difficult</th>\n",
       "      <td>42</td>\n",
       "      <td>1</td>\n",
       "      <td>Closed</td>\n",
       "      <td>42</td>\n",
       "      <td>42</td>\n",
       "      <td>5</td>\n",
       "      <td>0</td>\n",
       "      <td>32</td>\n",
       "      <td>42</td>\n",
       "      <td>12</td>\n",
       "      <td>...</td>\n",
       "      <td>1</td>\n",
       "      <td>16</td>\n",
       "      <td>42</td>\n",
       "      <td>7</td>\n",
       "      <td>4</td>\n",
       "      <td>9</td>\n",
       "      <td>42</td>\n",
       "      <td>8</td>\n",
       "      <td>1</td>\n",
       "      <td>22</td>\n",
       "    </tr>\n",
       "    <tr>\n",
       "      <th>Easy Train</th>\n",
       "      <td>42</td>\n",
       "      <td>1</td>\n",
       "      <td>Closed</td>\n",
       "      <td>42</td>\n",
       "      <td>42</td>\n",
       "      <td>6</td>\n",
       "      <td>0</td>\n",
       "      <td>33</td>\n",
       "      <td>42</td>\n",
       "      <td>9</td>\n",
       "      <td>...</td>\n",
       "      <td>0</td>\n",
       "      <td>23</td>\n",
       "      <td>42</td>\n",
       "      <td>4</td>\n",
       "      <td>3</td>\n",
       "      <td>21</td>\n",
       "      <td>42</td>\n",
       "      <td>6</td>\n",
       "      <td>1</td>\n",
       "      <td>30</td>\n",
       "    </tr>\n",
       "    <tr>\n",
       "      <th>Easy valid</th>\n",
       "      <td>42</td>\n",
       "      <td>1</td>\n",
       "      <td>Closed</td>\n",
       "      <td>42</td>\n",
       "      <td>42</td>\n",
       "      <td>6</td>\n",
       "      <td>0</td>\n",
       "      <td>34</td>\n",
       "      <td>42</td>\n",
       "      <td>14</td>\n",
       "      <td>...</td>\n",
       "      <td>0</td>\n",
       "      <td>21</td>\n",
       "      <td>42</td>\n",
       "      <td>5</td>\n",
       "      <td>4</td>\n",
       "      <td>18</td>\n",
       "      <td>42</td>\n",
       "      <td>9</td>\n",
       "      <td>1</td>\n",
       "      <td>29</td>\n",
       "    </tr>\n",
       "  </tbody>\n",
       "</table>\n",
       "<p>3 rows × 64 columns</p>\n",
       "</div>"
      ],
      "text/plain": [
       "           Situation                     Imports                  \\\n",
       "               count unique     top freq   count unique top freq   \n",
       "Nivel                                                              \n",
       "Difficult         42      1  Closed   42      42      5   0   32   \n",
       "Easy Train        42      1  Closed   42      42      6   0   33   \n",
       "Easy valid        42      1  Closed   42      42      6   0   34   \n",
       "\n",
       "           Changed_files         ... Qtd_labels_pr      Qtd_labels_issue  \\\n",
       "                   count unique  ...           top freq            count   \n",
       "Nivel                            ...                                       \n",
       "Difficult             42     12  ...             1   16               42   \n",
       "Easy Train            42      9  ...             0   23               42   \n",
       "Easy valid            42     14  ...             0   21               42   \n",
       "\n",
       "                           Commits                  \n",
       "           unique top freq   count unique top freq  \n",
       "Nivel                                               \n",
       "Difficult       7   4    9      42      8   1   22  \n",
       "Easy Train      4   3   21      42      6   1   30  \n",
       "Easy valid      5   4   18      42      9   1   29  \n",
       "\n",
       "[3 rows x 64 columns]"
      ]
     },
     "execution_count": 5,
     "metadata": {},
     "output_type": "execute_result"
    }
   ],
   "source": [
    "dfAll.groupby('Nivel').describe()"
   ]
  },
  {
   "cell_type": "code",
   "execution_count": 6,
   "metadata": {},
   "outputs": [
    {
     "name": "stdout",
     "output_type": "stream",
     "text": [
      "Bloxpot para o atributo:  Imports\n"
     ]
    },
    {
     "data": {
      "image/png": "[encoded data removed]",
      "text/plain": [
       "<Figure size 432x288 with 1 Axes>"
      ]
     },
     "metadata": {
      "needs_background": "light"
     },
     "output_type": "display_data"
    },
    {
     "name": "stdout",
     "output_type": "stream",
     "text": [
      "Dificil X Easy train:\n",
      "p:  0.8832739894709248 \n",
      "d:  -0.17034297754234498\n",
      "\n",
      "Dificil X Easy valid:\n",
      "p:  0.6789643633689721 \n",
      "d:  0.19256246512030123 \n",
      "\n",
      "Bloxpot para o atributo:  Changed_files\n"
     ]
    },
    {
     "data": {
      "image/png": "[encoded data removed]",
      "text/plain": [
       "<Figure size 432x288 with 1 Axes>"
      ]
     },
     "metadata": {
      "needs_background": "light"
     },
     "output_type": "display_data"
    },
    {
     "name": "stdout",
     "output_type": "stream",
     "text": [
      "Dificil X Easy train:\n",
      "p:  0.002253272236313718 \n",
      "d:  0.48107811902796466\n",
      "\n",
      "Dificil X Easy valid:\n",
      "p:  0.10086294110835131 \n",
      "d:  0.09528347913165881 \n",
      "\n",
      "Bloxpot para o atributo:  Changes\n"
     ]
    },
    {
     "data": {
      "image/png": "[encoded data removed]",
      "text/plain": [
       "<Figure size 432x288 with 1 Axes>"
      ]
     },
     "metadata": {
      "needs_background": "light"
     },
     "output_type": "display_data"
    },
    {
     "name": "stdout",
     "output_type": "stream",
     "text": [
      "Dificil X Easy train:\n",
      "p:  0.0003898199773615013 \n",
      "d:  0.44260803299842094\n",
      "\n",
      "Dificil X Easy valid:\n",
      "p:  0.001488987752332867 \n",
      "d:  0.5424713500132387 \n",
      "\n",
      "Bloxpot para o atributo:  Deletion\n"
     ]
    },
    {
     "data": {
      "image/png": "[encoded data removed]",
      "text/plain": [
       "<Figure size 432x288 with 1 Axes>"
      ]
     },
     "metadata": {
      "needs_background": "light"
     },
     "output_type": "display_data"
    },
    {
     "name": "stdout",
     "output_type": "stream",
     "text": [
      "Dificil X Easy train:\n",
      "p:  0.03706390920623674 \n",
      "d:  0.33266032865516415\n",
      "\n",
      "Dificil X Easy valid:\n",
      "p:  0.09716708620033912 \n",
      "d:  0.3553192535949292 \n",
      "\n",
      "Bloxpot para o atributo:  Aditions\n"
     ]
    },
    {
     "data": {
      "image/png": "[encoded data removed]",
      "text/plain": [
       "<Figure size 432x288 with 1 Axes>"
      ]
     },
     "metadata": {
      "needs_background": "light"
     },
     "output_type": "display_data"
    },
    {
     "name": "stdout",
     "output_type": "stream",
     "text": [
      "Dificil X Easy train:\n",
      "p:  0.0013065985529472136 \n",
      "d:  0.4095882786720953\n",
      "\n",
      "Dificil X Easy valid:\n",
      "p:  0.0041344639134393455 \n",
      "d:  0.5166617450470121 \n",
      "\n",
      "Bloxpot para o atributo:  Size_body\n"
     ]
    },
    {
     "data": {
      "image/png": "[encoded data removed]",
      "text/plain": [
       "<Figure size 432x288 with 1 Axes>"
      ]
     },
     "metadata": {
      "needs_background": "light"
     },
     "output_type": "display_data"
    },
    {
     "name": "stdout",
     "output_type": "stream",
     "text": [
      "Dificil X Easy train:\n",
      "p:  1.0540152945185672e-05 \n",
      "d:  0.768061936346671\n",
      "\n",
      "Dificil X Easy valid:\n",
      "p:  0.00013550668861366926 \n",
      "d:  0.7239331192374566 \n",
      "\n",
      "Bloxpot para o atributo:  PR_comments\n"
     ]
    },
    {
     "data": {
      "image/png": "[encoded data removed]",
      "text/plain": [
       "<Figure size 432x288 with 1 Axes>"
      ]
     },
     "metadata": {
      "needs_background": "light"
     },
     "output_type": "display_data"
    },
    {
     "name": "stdout",
     "output_type": "stream",
     "text": [
      "Dificil X Easy train:\n",
      "p:  0.7997908211026552 \n",
      "d:  0.14501266843786106\n",
      "\n",
      "Dificil X Easy valid:\n",
      "p:  0.6025222306173204 \n",
      "d:  0.3415297888771592 \n",
      "\n",
      "Bloxpot para o atributo:  PR_size_comments\n"
     ]
    },
    {
     "data": {
      "image/png": "[encoded data removed]",
      "text/plain": [
       "<Figure size 432x288 with 1 Axes>"
      ]
     },
     "metadata": {
      "needs_background": "light"
     },
     "output_type": "display_data"
    },
    {
     "name": "stdout",
     "output_type": "stream",
     "text": [
      "Dificil X Easy train:\n",
      "p:  0.3073924400048083 \n",
      "d:  0.5166598491157889\n",
      "\n",
      "Dificil X Easy valid:\n",
      "p:  0.05942492839398009 \n",
      "d:  0.5304776503517152 \n",
      "\n",
      "Bloxpot para o atributo:  Review_comments\n"
     ]
    },
    {
     "data": {
      "image/png": "[encoded data removed]",
      "text/plain": [
       "<Figure size 432x288 with 1 Axes>"
      ]
     },
     "metadata": {
      "needs_background": "light"
     },
     "output_type": "display_data"
    },
    {
     "name": "stdout",
     "output_type": "stream",
     "text": [
      "Dificil X Easy train:\n",
      "p:  0.3657532799509217 \n",
      "d:  0.4878374012102853\n",
      "\n",
      "Dificil X Easy valid:\n",
      "p:  0.06715521871872103 \n",
      "d:  0.5037047148554058 \n",
      "\n",
      "Bloxpot para o atributo:  Review_size_comments\n"
     ]
    },
    {
     "data": {
      "image/png": "[encoded data removed]",
      "text/plain": [
       "<Figure size 432x288 with 1 Axes>"
      ]
     },
     "metadata": {
      "needs_background": "light"
     },
     "output_type": "display_data"
    },
    {
     "name": "stdout",
     "output_type": "stream",
     "text": [
      "Dificil X Easy train:\n",
      "p:  0.3073924400048083 \n",
      "d:  0.5166598491157889\n",
      "\n",
      "Dificil X Easy valid:\n",
      "p:  0.05942492839398009 \n",
      "d:  0.5304776503517152 \n",
      "\n",
      "Bloxpot para o atributo:  Issue_comments\n"
     ]
    },
    {
     "data": {
      "image/png": "[encoded data removed]",
      "text/plain": [
       "<Figure size 432x288 with 1 Axes>"
      ]
     },
     "metadata": {
      "needs_background": "light"
     },
     "output_type": "display_data"
    },
    {
     "name": "stdout",
     "output_type": "stream",
     "text": [
      "Dificil X Easy train:\n",
      "p:  0.5127938040660069 \n",
      "d:  0.07646718234037214\n",
      "\n",
      "Dificil X Easy valid:\n",
      "p:  0.6789643633689721 \n",
      "d:  0.3424076255043413 \n",
      "\n",
      "Bloxpot para o atributo:  Issue_size_comments\n"
     ]
    },
    {
     "data": {
      "image/png": "[encoded data removed]",
      "text/plain": [
       "<Figure size 432x288 with 1 Axes>"
      ]
     },
     "metadata": {
      "needs_background": "light"
     },
     "output_type": "display_data"
    },
    {
     "name": "stdout",
     "output_type": "stream",
     "text": [
      "Dificil X Easy train:\n",
      "p:  0.9751558813787179 \n",
      "d:  0.3325524058206713\n",
      "\n",
      "Dificil X Easy valid:\n",
      "p:  0.14667258950836123 \n",
      "d:  0.5291127765610246 \n",
      "\n",
      "Bloxpot para o atributo:  Qtd_labels_pr\n"
     ]
    },
    {
     "data": {
      "image/png": "[encoded data removed]",
      "text/plain": [
       "<Figure size 432x288 with 1 Axes>"
      ]
     },
     "metadata": {
      "needs_background": "light"
     },
     "output_type": "display_data"
    },
    {
     "name": "stdout",
     "output_type": "stream",
     "text": [
      "Dificil X Easy train:\n",
      "p:  3.384622295211414e-11 \n",
      "d:  1.6864938594740349\n",
      "\n",
      "Dificil X Easy valid:\n",
      "p:  2.8714866220816247e-11 \n",
      "d:  1.7028926112438547 \n",
      "\n",
      "Bloxpot para o atributo:  Qtd_labels_issue\n"
     ]
    },
    {
     "data": {
      "image/png": "[encoded data removed]",
      "text/plain": [
       "<Figure size 432x288 with 1 Axes>"
      ]
     },
     "metadata": {
      "needs_background": "light"
     },
     "output_type": "display_data"
    },
    {
     "name": "stdout",
     "output_type": "stream",
     "text": [
      "Dificil X Easy train:\n",
      "p:  0.05355492256735239 \n",
      "d:  0.3725150355345903\n",
      "\n",
      "Dificil X Easy valid:\n",
      "p:  0.2003318692437591 \n",
      "d:  0.25020270434732694 \n",
      "\n",
      "Bloxpot para o atributo:  Commits\n"
     ]
    },
    {
     "data": {
      "image/png": "[encoded data removed]",
      "text/plain": [
       "<Figure size 432x288 with 1 Axes>"
      ]
     },
     "metadata": {
      "needs_background": "light"
     },
     "output_type": "display_data"
    },
    {
     "name": "stdout",
     "output_type": "stream",
     "text": [
      "Dificil X Easy train:\n",
      "p:  0.08671900542377693 \n",
      "d:  0.3776497218723155\n",
      "\n",
      "Dificil X Easy valid:\n",
      "p:  0.07871516878695044 \n",
      "d:  0.10465365263468875 \n",
      "\n"
     ]
    }
   ],
   "source": [
    "def cohend(d1, d2):\n",
    "\tn1, n2 = len(d1), len(d2)\n",
    "\ts1, s2 = np.var(d1, ddof=1), np.var(d2, ddof=1)\n",
    "\ts = sqrt(((n1 - 1) * s1 + (n2 - 1) * s2) / (n1 + n2 - 2))\n",
    "\tu1, u2 = np.mean(d1), np.mean(d2)\n",
    "\treturn (u1 - u2) / s\n",
    "\n",
    "for column in dfAll.columns[2:]:\n",
    "    print('Bloxpot para o atributo: ', column)\n",
    "    sns.boxplot(data=dfAll, y=column, x='Nivel')\n",
    "    plt.show()\n",
    "\n",
    "    U1, p = mannwhitneyu(dfAll.loc[dfAll['Nivel'] == 'Difficult', column].values.tolist(), dfAll.loc[dfAll['Nivel'] == 'Easy Train', column].values.tolist(), method=\"exact\")\n",
    "    print('Dificil X Easy train:\\np: ', p, '\\nd: ', cohend(dfAll.loc[dfAll['Nivel'] == 'Difficult', column].values.tolist(), dfAll.loc[dfAll['Nivel'] == 'Easy Train', column].values.tolist()))\n",
    "\n",
    "    U1, p = mannwhitneyu(dfAll.loc[dfAll['Nivel'] == 'Difficult', column].values.tolist(), dfAll.loc[dfAll['Nivel'] == 'Easy valid', column].values.tolist(), method=\"exact\")\n",
    "    print('\\nDificil X Easy valid:\\np: ', p, '\\nd: ', cohend(dfAll.loc[dfAll['Nivel'] == 'Difficult', column].values.tolist(), dfAll.loc[dfAll['Nivel'] == 'Easy valid', column].values.tolist()), '\\n')\n"
   ]
  }
 ],
 "metadata": {
  "interpreter": {
   "hash": "a01cbe3509f40fe8fbb70f6e35a414a4aeac5b623ad71bdf179810de598dc153"
  },
  "kernelspec": {
   "display_name": "Python 3.9.7 64-bit",
   "language": "python",
   "name": "python3"
  },
  "language_info": {
   "codemirror_mode": {
    "name": "ipython",
    "version": 3
   },
   "file_extension": ".py",
   "mimetype": "text/x-python",
   "name": "python",
   "nbconvert_exporter": "python",
   "pygments_lexer": "ipython3",
   "version": "3.9.7"
  },
  "orig_nbformat": 4
 },
 "nbformat": 4,
 "nbformat_minor": 2
}
