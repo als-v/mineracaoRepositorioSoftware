{
 "cells": [
  {
   "cell_type": "markdown",
   "id": "977e42d0",
   "metadata": {},
   "source": [
    "# Mineração de dados do Github"
   ]
  },
  {
   "cell_type": "markdown",
   "id": "501e1bd6",
   "metadata": {},
   "source": [
    "### Bibliotecas e aqreuivos utilizados\n",
    "Caso não exista o arquivo 'github_token.py' no diretorio, deve-se criar um arquivo com o seguinte conteúdo: \n",
    " \n",
    "```GITHUB_TOKEN = [PERSONAL_TOKEN]```\n",
    "\n",
    "Esse token é gerado pelo proprio github, e será utilizado para minerar os dados do github.\n",
    "\n",
    "Para mais informações sobre como gerar o token, acesse: https://help.github.com/articles/creating-a-personal-access-token-for-the-command-line/"
   ]
  },
  {
   "cell_type": "code",
   "execution_count": 46,
   "id": "dc519da2",
   "metadata": {},
   "outputs": [],
   "source": [
    "from github import Github\n",
    "from github_token import GITHUB_TOKEN"
   ]
  },
  {
   "cell_type": "markdown",
   "id": "4865bbb3",
   "metadata": {},
   "source": [
    "### Inicialmente criamos as instâncias da API do Github\n",
    "Vamos utilizar o repositorio zulip para nossa pesquisa."
   ]
  },
  {
   "cell_type": "code",
   "execution_count": 15,
   "id": "28145740",
   "metadata": {},
   "outputs": [
    {
     "name": "stdout",
     "output_type": "stream",
     "text": [
      "Fix Markdown formatting of code blocks & snippets\n"
     ]
    }
   ],
   "source": [
    "# criar instancia do github com o token\n",
    "g = Github(GITHUB_TOKEN)\n",
    "\n",
    "# criar uma instancia da organizacao\n",
    "org = g.get_organization('zulip')\n",
    "\n",
    "# pegar o repositorio zulip/zulip\n",
    "repo = org.get_repo('zulip')"
   ]
  },
  {
   "cell_type": "markdown",
   "id": "768f0ac8",
   "metadata": {},
   "source": [
    "### Pegando os dados dos PR's e das issues do repositorio"
   ]
  },
  {
   "cell_type": "code",
   "execution_count": 45,
   "id": "d2bbe7ab",
   "metadata": {},
   "outputs": [
    {
     "name": "stdout",
     "output_type": "stream",
     "text": [
      "docs: Describe the process of upgrading settings.py files.\n",
      "WIP: markdown: View code in playground option for codeblocks\n",
      "upgrade: Add management command to fix FTS indexes.\n",
      "move_topic_to_stream: Apply the event to the fetched state.\n",
      "Support bulk message deletion.\n",
      "Fix moving topic for guest users\n",
      "message list: Render new messages only after \"newest\" is found.\n",
      "Add support for configuring which realms use which SAML providers in multi-organization servers \n",
      "Refactor lightbox code to fix buggy implementation of the image-list.\n",
      "narrow: Show starred messages from muted topics in starred message view.\n",
      "hotspots: Animate more tastefully\n",
      "streams:public and streams:subscribed to search entire history of organisation\n",
      "Tornado upgrade experiments (not working at all)\n",
      "message view: Narrow back to the last unread message.\n",
      "bulk_remove_subscriptions and bulk_add_subscriptions can race with themselves and cause duplicated RealmAuditLog entries\n"
     ]
    }
   ],
   "source": [
    "# numero dos PR's fechados e abertos, cujo as labels são dificeis\n",
    "ClosedPR = [18239, 16308, 15721, 15683, 15329, 15248, 15065, 14538, 14244, 14028, 13953, 12999, 9425, 8725]\n",
    "OpenPR = [19975, 16313, 15505, 12096, 10056, 9448, 8780]\n",
    "\n",
    "# pegar os PR's fechados\n",
    "for numberPR in ClosedPR:\n",
    "    pr = repo.get_pull(numberPR)\n",
    "    print(pr.title)\n",
    "\n",
    "# pegar os PR's abertos\n",
    "for numberPR in OpenPR:\n",
    "    pr = repo.get_pull(numberPR)\n",
    "    print(pr.title)\n",
    "\n",
    "# pegar issues difíceis abertas\n",
    "for a in repo.get_issues(state='open', labels=['difficult']):\n",
    "    print(a.title)\n"
   ]
  }
 ],
 "metadata": {
  "kernelspec": {
   "display_name": "Python 3 (ipykernel)",
   "language": "python",
   "name": "python3"
  },
  "language_info": {
   "codemirror_mode": {
    "name": "ipython",
    "version": 3
   },
   "file_extension": ".py",
   "mimetype": "text/x-python",
   "name": "python",
   "nbconvert_exporter": "python",
   "pygments_lexer": "ipython3",
   "version": "3.9.7"
  }
 },
 "nbformat": 4,
 "nbformat_minor": 5
}
