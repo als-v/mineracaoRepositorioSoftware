{
 "cells": [
  {
   "cell_type": "markdown",
   "id": "977e42d0",
   "metadata": {},
   "source": [
    "# Mineração de dados do Github"
   ]
  },
  {
   "cell_type": "markdown",
   "id": "501e1bd6",
   "metadata": {},
   "source": [
    "### Bibliotecas e aqreuivos utilizados\n",
    "Caso não exista o arquivo 'github_token.py' no diretorio, deve-se criar um arquivo com o seguinte conteúdo: \n",
    " \n",
    "```GITHUB_TOKEN = [PERSONAL_TOKEN]```\n",
    "\n",
    "Esse token é gerado pelo proprio github, e será utilizado para minerar os dados do github.\n",
    "\n",
    "Para mais informações sobre como gerar o token, acesse: https://help.github.com/articles/creating-a-personal-access-token-for-the-command-line/"
   ]
  },
  {
   "cell_type": "code",
   "execution_count": 9,
   "id": "dc519da2",
   "metadata": {},
   "outputs": [],
   "source": [
    "from github import Github\n",
    "from github_token import GITHUB_TOKEN\n",
    "import pandas as pd"
   ]
  },
  {
   "cell_type": "markdown",
   "id": "4865bbb3",
   "metadata": {},
   "source": [
    "### Inicialmente criamos as instâncias da API do Github\n",
    "Vamos utilizar o repositorio zulip para nossa pesquisa."
   ]
  },
  {
   "cell_type": "code",
   "execution_count": 10,
   "id": "28145740",
   "metadata": {},
   "outputs": [],
   "source": [
    "# criar instancia do github com o token\n",
    "g = Github(GITHUB_TOKEN)\n",
    "\n",
    "# criar uma instancia da organizacao\n",
    "org = g.get_organization('zulip')\n",
    "\n",
    "# pegar o repositorio zulip/zulip\n",
    "repo = org.get_repo('zulip')"
   ]
  },
  {
   "cell_type": "markdown",
   "id": "768f0ac8",
   "metadata": {},
   "source": [
    "### Pegando os dados dos PR's e das issues do repositorio"
   ]
  },
  {
   "cell_type": "code",
   "execution_count": 58,
   "id": "d2bbe7ab",
   "metadata": {},
   "outputs": [
    {
     "name": "stdout",
     "output_type": "stream",
     "text": [
      "   Situation  Number  Changed_files  Changes  Deletion  Aditions  Size_body  \\\n",
      "0     Closed   18239              2       70         0        70       4804   \n",
      "1     Closed   16308              9      201        12       189       1437   \n",
      "2     Closed   15721              3       36         3        33        742   \n",
      "3     Closed   15683              2       55         0        55         98   \n",
      "4     Closed   15329              7      106        21        85        211   \n",
      "5     Closed   15248              5      100        33        67        243   \n",
      "6     Closed   15065              5      108        16        92       1554   \n",
      "7     Closed   14538              2       13         4         9        157   \n",
      "8     Closed   14244              3       63        25        38        936   \n",
      "9     Closed   14028              2       26         1        25        733   \n",
      "10    Closed   13953              1       17         7        10        237   \n",
      "11    Closed   12999             13      303        13       290       1609   \n",
      "12    Closed    9425              9      105        65        40        407   \n",
      "13    Closed    8725              1        5         0         5        285   \n",
      "\n",
      "           Create_date         Closed_date          Merge_date  Comments  \\\n",
      "0  2021-04-21 22:36:19 2021-04-28 04:50:33 2021-04-28 04:50:33         9   \n",
      "1  2020-09-06 12:01:35 2020-09-28 23:15:33                 NaT        19   \n",
      "2  2020-07-08 14:56:14 2020-07-13 19:45:33                 NaT         8   \n",
      "3  2020-07-06 07:48:30 2020-07-06 22:48:56 2020-07-06 22:48:56         2   \n",
      "4  2020-06-12 08:54:28 2020-06-15 17:54:01                 NaT         8   \n",
      "5  2020-06-07 12:07:44 2020-06-08 14:59:53                 NaT         4   \n",
      "6  2020-05-22 16:11:30 2020-06-16 18:15:17                 NaT        14   \n",
      "7  2020-04-10 14:35:41 2020-04-21 20:49:36 2020-04-21 20:49:36         7   \n",
      "8  2020-03-19 03:36:00 2020-04-05 20:19:46                 NaT        10   \n",
      "9  2020-02-25 20:01:53 2020-03-27 07:17:27 2020-03-27 07:17:27         3   \n",
      "10 2020-02-19 02:14:45 2020-02-25 22:04:13 2020-02-25 22:04:12         1   \n",
      "11 2019-08-13 19:00:15 2019-08-22 20:45:47                 NaT        23   \n",
      "12 2018-05-16 15:01:24 2018-05-17 20:26:00                 NaT         3   \n",
      "13 2018-03-16 10:02:30 2018-05-13 11:29:05                 NaT         8   \n",
      "\n",
      "    Size_comments  Commits  \n",
      "0            1940        1  \n",
      "1             405        5  \n",
      "2              23        1  \n",
      "3               0        1  \n",
      "4             598        2  \n",
      "5               0        2  \n",
      "6            2438        2  \n",
      "7             532        1  \n",
      "8               0        8  \n",
      "9               0        1  \n",
      "10             96        1  \n",
      "11            184        1  \n",
      "12              0        3  \n",
      "13              0        1  \n"
     ]
    }
   ],
   "source": [
    "# numero dos PR's fechados e abertos, cujo as labels são dificeis\n",
    "ClosedPR = [18239, 16308, 15721, 15683, 15329, 15248, 15065, 14538, 14244, 14028, 13953, 12999, 9425, 8725]\n",
    "OpenPR = [19975, 16313, 15505, 12096, 10056, 9448, 8780]\n",
    "\n",
    "data = []\n",
    "\n",
    "# pegar os PR's fechados\n",
    "for numberPR in ClosedPR:\n",
    "    pr = repo.get_pull(numberPR)\n",
    "\n",
    "    changes = 0\n",
    "    deletions = 0\n",
    "    aditions = 0\n",
    "\n",
    "    for file in pr.get_files():\n",
    "        changes += file.changes\n",
    "        deletions += file.deletions\n",
    "        aditions += file.additions\n",
    "    \n",
    "    size = 0\n",
    "\n",
    "    for comment in pr.get_comments():\n",
    "        if comment.user.login != 'timabbott':\n",
    "            size += len(comment.body)\n",
    "\n",
    "    data.append(['Closed', numberPR, pr.changed_files, changes, deletions, aditions, len(pr.body), pr.created_at, pr.closed_at, pr.merged_at, pr.comments, size, pr.commits])\n",
    "\n",
    "df = pd.DataFrame(data, columns=['Situation', 'Number', 'Changed_files', 'Changes', 'Deletion', 'Aditions', 'Size_body', 'Create_date','Closed_date', 'Merge_date', 'Comments', 'Size_comments', 'Commits'])\n",
    "print(df)\n",
    "# # pegar os PR's abertos\n",
    "# for numberPR in OpenPR:\n",
    "#     pr = repo.get_pull(numberPR)\n",
    "#     print(pr.title)\n",
    "\n",
    "# # pegar issues difíceis abertas\n",
    "# for a in repo.get_issues(state='open', labels=['difficult']):\n",
    "#     print(a.title)\n"
   ]
  }
 ],
 "metadata": {
  "kernelspec": {
   "display_name": "Python 3 (ipykernel)",
   "language": "python",
   "name": "python3"
  },
  "language_info": {
   "codemirror_mode": {
    "name": "ipython",
    "version": 3
   },
   "file_extension": ".py",
   "mimetype": "text/x-python",
   "name": "python",
   "nbconvert_exporter": "python",
   "pygments_lexer": "ipython3",
   "version": "3.9.7"
  }
 },
 "nbformat": 4,
 "nbformat_minor": 5
}
