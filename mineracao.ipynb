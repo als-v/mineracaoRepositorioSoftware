{
 "cells": [
  {
   "cell_type": "markdown",
   "id": "977e42d0",
   "metadata": {},
   "source": [
    "# Mineração de dados do Github"
   ]
  },
  {
   "cell_type": "markdown",
   "id": "501e1bd6",
   "metadata": {},
   "source": [
    "### Bibliotecas e aqreuivos utilizados\n",
    "Caso não exista o arquivo 'github_token.py' no diretorio, deve-se criar um arquivo com o seguinte conteúdo: \n",
    " \n",
    "```GITHUB_TOKEN = [PERSONAL_TOKEN]```\n",
    "\n",
    "Esse token é gerado pelo proprio github, e será utilizado para minerar os dados do github.\n",
    "\n",
    "Para mais informações sobre como gerar o token, acesse: https://help.github.com/articles/creating-a-personal-access-token-for-the-command-line/"
   ]
  },
  {
   "cell_type": "code",
   "execution_count": 1,
   "id": "dc519da2",
   "metadata": {},
   "outputs": [],
   "source": [
    "from github import Github\n",
    "from github_token import GITHUB_TOKEN\n",
    "import pandas as pd\n",
    "import requests\n",
    "from datetime import datetime\n",
    "import re\n",
    "import plotly.express as px\n",
    "from sklearn.cluster import KMeans"
   ]
  },
  {
   "cell_type": "markdown",
   "id": "4865bbb3",
   "metadata": {},
   "source": [
    "### Inicialmente criamos as instâncias da API do Github\n",
    "Vamos utilizar o repositorio zulip para nossa pesquisa."
   ]
  },
  {
   "cell_type": "code",
   "execution_count": 2,
   "id": "28145740",
   "metadata": {},
   "outputs": [],
   "source": [
    "# criar instancia do github com o token\n",
    "g = Github(GITHUB_TOKEN)\n",
    "\n",
    "# criar uma instancia da organizacao\n",
    "org = g.get_organization('zulip')\n",
    "\n",
    "# pegar o repositorio zulip/zulip\n",
    "repo = org.get_repo('zulip')"
   ]
  },
  {
   "cell_type": "code",
   "execution_count": 3,
   "id": "3b0bf99f",
   "metadata": {},
   "outputs": [],
   "source": [
    "# close PRs\n",
    "ClosedPR = [18239, 16308, 15721, 15683, 15329, 15248, 15065, 14538, 14244, 14028, 13953, 12999, 9425, 8725]\n",
    "# ClosedPR = []\n",
    "\n",
    "# open PRs\n",
    "OpenPR = [19975, 16313, 15505, 12096, 10056, 9448, 8780]\n",
    "# OpenPR = []\n",
    "\n",
    "# label = repo.get_label('difficult')\n",
    "\n",
    "# for issue in repo.get_pulls(state='closed'):\n",
    "#     if label in issue.labels:\n",
    "#         ClosedPR.append(issue.number)\n",
    "\n",
    "# for issue in repo.get_pulls(state='open'):\n",
    "#     if label in issue.labels:\n",
    "#         OpenPR.append(issue.number)"
   ]
  },
  {
   "cell_type": "code",
   "execution_count": 4,
   "id": "d2bbe7ab",
   "metadata": {},
   "outputs": [],
   "source": [
    "data = []\n",
    "\n",
    "# pegar os PR's fechados\n",
    "for numberPR in ClosedPR:\n",
    "    pr = repo.get_pull(numberPR)\n",
    "\n",
    "    changes = 0\n",
    "    deletions = 0\n",
    "    aditions = 0\n",
    "\n",
    "    for file in pr.get_files():\n",
    "        changes += file.changes\n",
    "        deletions += file.deletions\n",
    "        aditions += file.additions\n",
    "    \n",
    "    size = 0\n",
    "\n",
    "    for comment in pr.get_comments():\n",
    "        if 'bot' not in comment.user.login:\n",
    "            size += len(comment.body)\n",
    "\n",
    "    html = requests.get(pr.diff_url)\n",
    "\n",
    "    # python e typescript\n",
    "    pythonType = re.findall('import \\w+', html.text)\n",
    "    js = re.findall('[+]const \\w+ = require', html.text)\n",
    "\n",
    "    strTime = pr.last_modified.split(' ')\n",
    "    strTime = strTime[2] + ' ' + strTime[1] + ' ' + strTime[3] + ' ' + strTime[4]\n",
    "\n",
    "    lastModified = datetime.strptime(strTime, '%b %d %Y %H:%M:%S')\n",
    "\n",
    "    if None != pr.merged_at:\n",
    "        timeDiff = lastModified - pr.merged_at\n",
    "    else:\n",
    "        timeDiff = None\n",
    "\n",
    "    sizeIssueComment = 0\n",
    "    qtdIssueComment = 0\n",
    "\n",
    "    for comments in pr.get_issue_comments():\n",
    "        if 'bot' not in comments.user.login:\n",
    "            sizeIssueComment + len(comments.body)\n",
    "            qtdIssueComment += 1\n",
    "\n",
    "    sizeReviewComment = 0\n",
    "    qtdReviewComment = 0\n",
    "\n",
    "    for reviewComments in pr.get_review_comments():\n",
    "        if 'bot' not in reviewComments.user.login:\n",
    "            sizeReviewComment += len(reviewComments.body)\n",
    "            qtdReviewComment += 1\n",
    "\n",
    "    data.append(['Closed', numberPR, len(pythonType) + len(js), pr.changed_files, changes, deletions, aditions, len(pr.body), pr.created_at, pr.closed_at, pr.merged_at, timeDiff, datetime.now()-pr.created_at, pr.comments, size, qtdReviewComment, sizeReviewComment, qtdIssueComment, sizeIssueComment, len(pr.labels), pr.commits])\n",
    "\n",
    "# pegar os PR's abertos\n",
    "for numberPR in OpenPR:\n",
    "    pr = repo.get_pull(numberPR)\n",
    "\n",
    "    changes = 0\n",
    "    deletions = 0\n",
    "    aditions = 0\n",
    "\n",
    "    for file in pr.get_files():\n",
    "        changes += file.changes\n",
    "        deletions += file.deletions\n",
    "        aditions += file.additions\n",
    "\n",
    "    size = 0\n",
    "\n",
    "    for comment in pr.get_comments():\n",
    "        if 'bot' not in comment.user.login:\n",
    "            size += len(comment.body)\n",
    "\n",
    "    html = requests.get(pr.diff_url)\n",
    "\n",
    "    # python e typescript\n",
    "    pythonType = re.findall('import \\w+', html.text)\n",
    "    js = re.findall('[+]const \\w+ = require', html.text)\n",
    "\n",
    "    strTime = pr.last_modified.split(' ')\n",
    "    strTime = strTime[2] + ' ' + strTime[1] + ' ' + strTime[3] + ' ' + strTime[4]\n",
    "\n",
    "    lastModified = datetime.strptime(strTime, '%b %d %Y %H:%M:%S')\n",
    "\n",
    "    if None != pr.merged_at:\n",
    "        timeDiff = lastModified - pr.merged_at\n",
    "    else:\n",
    "        timeDiff = None\n",
    "\n",
    "    sizeIssueComment = 0\n",
    "    qtdIssueComment = 0\n",
    "\n",
    "    for comments in pr.get_issue_comments():\n",
    "        if 'bot' not in comments.user.login:\n",
    "            sizeIssueComment + len(comments.body)\n",
    "            qtdIssueComment += 1\n",
    "\n",
    "    sizeReviewComment = 0\n",
    "    qtdReviewComment = 0\n",
    "\n",
    "    for reviewComments in pr.get_review_comments():\n",
    "        if 'bot' not in reviewComments.user.login:\n",
    "            sizeReviewComment += len(reviewComments.body)\n",
    "            qtdReviewComment += 1\n",
    "\n",
    "    data.append(['Open', numberPR, len(pythonType) + len(js), pr.changed_files, changes, deletions, aditions, len(pr.body), pr.created_at, pr.closed_at, pr.merged_at, timeDiff, datetime.now()-pr.created_at, pr.comments, size, qtdReviewComment, sizeReviewComment, qtdIssueComment, sizeIssueComment, len(pr.labels), pr.commits])\n",
    "\n",
    "\n",
    "# pegar issues difíceis\n",
    "for issue in repo.get_issues(labels=['difficult']):\n",
    "    size = 0\n",
    "\n",
    "    for comment in issue.get_comments():\n",
    "        if 'bot' not in comment.user.login:\n",
    "            size += len(comment.body)\n",
    "    \n",
    "    data.append(['Issue', issue.number, 0, 0, 0, 0, 0, len(issue.body), issue.created_at, issue.closed_at, -1, -1, datetime.now()-issue.created_at, -1, -1, -1, -1, issue.comments, size, len(issue.labels), 0])\n",
    "\n",
    "df = pd.DataFrame(data, columns=['Situation', 'Number', 'Imports', 'Changed_files', 'Changes', 'Deletion', 'Aditions', 'Size_body', 'Create_date','Closed_date', 'Merge_date', 'Diff_MergeLastModify', 'Diff_CreateNow', 'PR_comments', 'PR_size_comments', 'Review_comments', 'Review_size_comments', 'Issue_comments', 'Issue_size_comments', 'Qtd_labels', 'Commits'])\n"
   ]
  },
  {
   "cell_type": "code",
   "execution_count": 5,
   "id": "74301721",
   "metadata": {},
   "outputs": [
    {
     "name": "stdout",
     "output_type": "stream",
     "text": [
      "<class 'pandas.core.frame.DataFrame'>\n",
      "RangeIndex: 112 entries, 0 to 111\n",
      "Data columns (total 21 columns):\n",
      " #   Column                Non-Null Count  Dtype          \n",
      "---  ------                --------------  -----          \n",
      " 0   Situation             112 non-null    object         \n",
      " 1   Number                112 non-null    int64          \n",
      " 2   Imports               112 non-null    int64          \n",
      " 3   Changed_files         112 non-null    int64          \n",
      " 4   Changes               112 non-null    int64          \n",
      " 5   Deletion              112 non-null    int64          \n",
      " 6   Aditions              112 non-null    int64          \n",
      " 7   Size_body             112 non-null    int64          \n",
      " 8   Create_date           112 non-null    datetime64[ns] \n",
      " 9   Closed_date           14 non-null     datetime64[ns] \n",
      " 10  Merge_date            96 non-null     object         \n",
      " 11  Diff_MergeLastModify  96 non-null     object         \n",
      " 12  Diff_CreateNow        112 non-null    timedelta64[ns]\n",
      " 13  PR_comments           112 non-null    int64          \n",
      " 14  PR_size_comments      112 non-null    int64          \n",
      " 15  Review_comments       112 non-null    int64          \n",
      " 16  Review_size_comments  112 non-null    int64          \n",
      " 17  Issue_comments        112 non-null    int64          \n",
      " 18  Issue_size_comments   112 non-null    int64          \n",
      " 19  Qtd_labels            112 non-null    int64          \n",
      " 20  Commits               112 non-null    int64          \n",
      "dtypes: datetime64[ns](2), int64(15), object(3), timedelta64[ns](1)\n",
      "memory usage: 18.5+ KB\n"
     ]
    }
   ],
   "source": [
    "df.info()"
   ]
  },
  {
   "cell_type": "code",
   "execution_count": 6,
   "id": "de861274",
   "metadata": {},
   "outputs": [],
   "source": [
    "df.loc[df['Situation'] == 'Closed', 'Situation'] = 0\n",
    "df.loc[df['Situation'] == 'Open', 'Situation'] = 1\n",
    "df.loc[df['Situation'] == 'Issue', 'Situation'] = 3\n",
    "\n",
    "df['Create_date'] = 0\n",
    "df['Closed_date'] = 0\n",
    "df['Merge_date'] = 0\n",
    "df['Diff_MergeLastModify'] = 0\n",
    "df['Diff_CreateNow'] = 0\n",
    "\n",
    "X = df.values"
   ]
  },
  {
   "cell_type": "code",
   "execution_count": 7,
   "id": "4492acdd",
   "metadata": {},
   "outputs": [],
   "source": [
    "numberClusters = 2\n",
    "\n",
    "# crio a instancia\n",
    "kmeans = KMeans(n_clusters = numberClusters, init = 'random')\n",
    "\n",
    "# executo o algoritmo\n",
    "kmeans.fit(X)\n",
    "\n",
    "label = kmeans.fit_predict(X)"
   ]
  },
  {
   "cell_type": "code",
   "execution_count": 8,
   "id": "5cf1879c",
   "metadata": {},
   "outputs": [],
   "source": [
    "clusters = []\n",
    "\n",
    "for i in range(numberClusters):\n",
    "    clusters.append([])\n",
    "\n",
    "for i, cluster in enumerate(kmeans.labels_):\n",
    "    if cluster == 0:\n",
    "        clusters[0].append(X[i])\n",
    "    elif cluster == 1:\n",
    "        clusters[1].append(X[i])\n",
    "    elif cluster == 2:\n",
    "        clusters[2].append(X[i])"
   ]
  },
  {
   "cell_type": "code",
   "execution_count": 9,
   "metadata": {},
   "outputs": [],
   "source": [
    "tamanhoCluster = []\n",
    "\n",
    "for i, alunoCluster in enumerate(clusters):\n",
    "    tamanhoCluster.append(len(alunoCluster))"
   ]
  },
  {
   "cell_type": "code",
   "execution_count": 10,
   "id": "f5570fd7",
   "metadata": {},
   "outputs": [
    {
     "data": {
      "application/vnd.plotly.v1+json": {
       "config": {
        "plotlyServerURL": "https://plot.ly"
       },
       "data": [
        {
         "alignmentgroup": "True",
         "hovertemplate": "Cluster=%{x}<br>Quantidade=%{y}<extra></extra>",
         "legendgroup": "",
         "marker": {
          "color": "#636efa",
          "pattern": {
           "shape": ""
          }
         },
         "name": "",
         "offsetgroup": "",
         "orientation": "v",
         "showlegend": false,
         "textposition": "auto",
         "type": "bar",
         "x": [
          "Cluster 1",
          "Cluster 2"
         ],
         "xaxis": "x",
         "y": [
          46,
          66
         ],
         "yaxis": "y"
        }
       ],
       "layout": {
        "barmode": "relative",
        "legend": {
         "tracegroupgap": 0
        },
        "template": {
         "data": {
          "bar": [
           {
            "error_x": {
             "color": "#2a3f5f"
            },
            "error_y": {
             "color": "#2a3f5f"
            },
            "marker": {
             "line": {
              "color": "#E5ECF6",
              "width": 0.5
             },
             "pattern": {
              "fillmode": "overlay",
              "size": 10,
              "solidity": 0.2
             }
            },
            "type": "bar"
           }
          ],
          "barpolar": [
           {
            "marker": {
             "line": {
              "color": "#E5ECF6",
              "width": 0.5
             },
             "pattern": {
              "fillmode": "overlay",
              "size": 10,
              "solidity": 0.2
             }
            },
            "type": "barpolar"
           }
          ],
          "carpet": [
           {
            "aaxis": {
             "endlinecolor": "#2a3f5f",
             "gridcolor": "white",
             "linecolor": "white",
             "minorgridcolor": "white",
             "startlinecolor": "#2a3f5f"
            },
            "baxis": {
             "endlinecolor": "#2a3f5f",
             "gridcolor": "white",
             "linecolor": "white",
             "minorgridcolor": "white",
             "startlinecolor": "#2a3f5f"
            },
            "type": "carpet"
           }
          ],
          "choropleth": [
           {
            "colorbar": {
             "outlinewidth": 0,
             "ticks": ""
            },
            "type": "choropleth"
           }
          ],
          "contour": [
           {
            "colorbar": {
             "outlinewidth": 0,
             "ticks": ""
            },
            "colorscale": [
             [
              0,
              "#0d0887"
             ],
             [
              0.1111111111111111,
              "#46039f"
             ],
             [
              0.2222222222222222,
              "#7201a8"
             ],
             [
              0.3333333333333333,
              "#9c179e"
             ],
             [
              0.4444444444444444,
              "#bd3786"
             ],
             [
              0.5555555555555556,
              "#d8576b"
             ],
             [
              0.6666666666666666,
              "#ed7953"
             ],
             [
              0.7777777777777778,
              "#fb9f3a"
             ],
             [
              0.8888888888888888,
              "#fdca26"
             ],
             [
              1,
              "#f0f921"
             ]
            ],
            "type": "contour"
           }
          ],
          "contourcarpet": [
           {
            "colorbar": {
             "outlinewidth": 0,
             "ticks": ""
            },
            "type": "contourcarpet"
           }
          ],
          "heatmap": [
           {
            "colorbar": {
             "outlinewidth": 0,
             "ticks": ""
            },
            "colorscale": [
             [
              0,
              "#0d0887"
             ],
             [
              0.1111111111111111,
              "#46039f"
             ],
             [
              0.2222222222222222,
              "#7201a8"
             ],
             [
              0.3333333333333333,
              "#9c179e"
             ],
             [
              0.4444444444444444,
              "#bd3786"
             ],
             [
              0.5555555555555556,
              "#d8576b"
             ],
             [
              0.6666666666666666,
              "#ed7953"
             ],
             [
              0.7777777777777778,
              "#fb9f3a"
             ],
             [
              0.8888888888888888,
              "#fdca26"
             ],
             [
              1,
              "#f0f921"
             ]
            ],
            "type": "heatmap"
           }
          ],
          "heatmapgl": [
           {
            "colorbar": {
             "outlinewidth": 0,
             "ticks": ""
            },
            "colorscale": [
             [
              0,
              "#0d0887"
             ],
             [
              0.1111111111111111,
              "#46039f"
             ],
             [
              0.2222222222222222,
              "#7201a8"
             ],
             [
              0.3333333333333333,
              "#9c179e"
             ],
             [
              0.4444444444444444,
              "#bd3786"
             ],
             [
              0.5555555555555556,
              "#d8576b"
             ],
             [
              0.6666666666666666,
              "#ed7953"
             ],
             [
              0.7777777777777778,
              "#fb9f3a"
             ],
             [
              0.8888888888888888,
              "#fdca26"
             ],
             [
              1,
              "#f0f921"
             ]
            ],
            "type": "heatmapgl"
           }
          ],
          "histogram": [
           {
            "marker": {
             "pattern": {
              "fillmode": "overlay",
              "size": 10,
              "solidity": 0.2
             }
            },
            "type": "histogram"
           }
          ],
          "histogram2d": [
           {
            "colorbar": {
             "outlinewidth": 0,
             "ticks": ""
            },
            "colorscale": [
             [
              0,
              "#0d0887"
             ],
             [
              0.1111111111111111,
              "#46039f"
             ],
             [
              0.2222222222222222,
              "#7201a8"
             ],
             [
              0.3333333333333333,
              "#9c179e"
             ],
             [
              0.4444444444444444,
              "#bd3786"
             ],
             [
              0.5555555555555556,
              "#d8576b"
             ],
             [
              0.6666666666666666,
              "#ed7953"
             ],
             [
              0.7777777777777778,
              "#fb9f3a"
             ],
             [
              0.8888888888888888,
              "#fdca26"
             ],
             [
              1,
              "#f0f921"
             ]
            ],
            "type": "histogram2d"
           }
          ],
          "histogram2dcontour": [
           {
            "colorbar": {
             "outlinewidth": 0,
             "ticks": ""
            },
            "colorscale": [
             [
              0,
              "#0d0887"
             ],
             [
              0.1111111111111111,
              "#46039f"
             ],
             [
              0.2222222222222222,
              "#7201a8"
             ],
             [
              0.3333333333333333,
              "#9c179e"
             ],
             [
              0.4444444444444444,
              "#bd3786"
             ],
             [
              0.5555555555555556,
              "#d8576b"
             ],
             [
              0.6666666666666666,
              "#ed7953"
             ],
             [
              0.7777777777777778,
              "#fb9f3a"
             ],
             [
              0.8888888888888888,
              "#fdca26"
             ],
             [
              1,
              "#f0f921"
             ]
            ],
            "type": "histogram2dcontour"
           }
          ],
          "mesh3d": [
           {
            "colorbar": {
             "outlinewidth": 0,
             "ticks": ""
            },
            "type": "mesh3d"
           }
          ],
          "parcoords": [
           {
            "line": {
             "colorbar": {
              "outlinewidth": 0,
              "ticks": ""
             }
            },
            "type": "parcoords"
           }
          ],
          "pie": [
           {
            "automargin": true,
            "type": "pie"
           }
          ],
          "scatter": [
           {
            "marker": {
             "colorbar": {
              "outlinewidth": 0,
              "ticks": ""
             }
            },
            "type": "scatter"
           }
          ],
          "scatter3d": [
           {
            "line": {
             "colorbar": {
              "outlinewidth": 0,
              "ticks": ""
             }
            },
            "marker": {
             "colorbar": {
              "outlinewidth": 0,
              "ticks": ""
             }
            },
            "type": "scatter3d"
           }
          ],
          "scattercarpet": [
           {
            "marker": {
             "colorbar": {
              "outlinewidth": 0,
              "ticks": ""
             }
            },
            "type": "scattercarpet"
           }
          ],
          "scattergeo": [
           {
            "marker": {
             "colorbar": {
              "outlinewidth": 0,
              "ticks": ""
             }
            },
            "type": "scattergeo"
           }
          ],
          "scattergl": [
           {
            "marker": {
             "colorbar": {
              "outlinewidth": 0,
              "ticks": ""
             }
            },
            "type": "scattergl"
           }
          ],
          "scattermapbox": [
           {
            "marker": {
             "colorbar": {
              "outlinewidth": 0,
              "ticks": ""
             }
            },
            "type": "scattermapbox"
           }
          ],
          "scatterpolar": [
           {
            "marker": {
             "colorbar": {
              "outlinewidth": 0,
              "ticks": ""
             }
            },
            "type": "scatterpolar"
           }
          ],
          "scatterpolargl": [
           {
            "marker": {
             "colorbar": {
              "outlinewidth": 0,
              "ticks": ""
             }
            },
            "type": "scatterpolargl"
           }
          ],
          "scatterternary": [
           {
            "marker": {
             "colorbar": {
              "outlinewidth": 0,
              "ticks": ""
             }
            },
            "type": "scatterternary"
           }
          ],
          "surface": [
           {
            "colorbar": {
             "outlinewidth": 0,
             "ticks": ""
            },
            "colorscale": [
             [
              0,
              "#0d0887"
             ],
             [
              0.1111111111111111,
              "#46039f"
             ],
             [
              0.2222222222222222,
              "#7201a8"
             ],
             [
              0.3333333333333333,
              "#9c179e"
             ],
             [
              0.4444444444444444,
              "#bd3786"
             ],
             [
              0.5555555555555556,
              "#d8576b"
             ],
             [
              0.6666666666666666,
              "#ed7953"
             ],
             [
              0.7777777777777778,
              "#fb9f3a"
             ],
             [
              0.8888888888888888,
              "#fdca26"
             ],
             [
              1,
              "#f0f921"
             ]
            ],
            "type": "surface"
           }
          ],
          "table": [
           {
            "cells": {
             "fill": {
              "color": "#EBF0F8"
             },
             "line": {
              "color": "white"
             }
            },
            "header": {
             "fill": {
              "color": "#C8D4E3"
             },
             "line": {
              "color": "white"
             }
            },
            "type": "table"
           }
          ]
         },
         "layout": {
          "annotationdefaults": {
           "arrowcolor": "#2a3f5f",
           "arrowhead": 0,
           "arrowwidth": 1
          },
          "autotypenumbers": "strict",
          "coloraxis": {
           "colorbar": {
            "outlinewidth": 0,
            "ticks": ""
           }
          },
          "colorscale": {
           "diverging": [
            [
             0,
             "#8e0152"
            ],
            [
             0.1,
             "#c51b7d"
            ],
            [
             0.2,
             "#de77ae"
            ],
            [
             0.3,
             "#f1b6da"
            ],
            [
             0.4,
             "#fde0ef"
            ],
            [
             0.5,
             "#f7f7f7"
            ],
            [
             0.6,
             "#e6f5d0"
            ],
            [
             0.7,
             "#b8e186"
            ],
            [
             0.8,
             "#7fbc41"
            ],
            [
             0.9,
             "#4d9221"
            ],
            [
             1,
             "#276419"
            ]
           ],
           "sequential": [
            [
             0,
             "#0d0887"
            ],
            [
             0.1111111111111111,
             "#46039f"
            ],
            [
             0.2222222222222222,
             "#7201a8"
            ],
            [
             0.3333333333333333,
             "#9c179e"
            ],
            [
             0.4444444444444444,
             "#bd3786"
            ],
            [
             0.5555555555555556,
             "#d8576b"
            ],
            [
             0.6666666666666666,
             "#ed7953"
            ],
            [
             0.7777777777777778,
             "#fb9f3a"
            ],
            [
             0.8888888888888888,
             "#fdca26"
            ],
            [
             1,
             "#f0f921"
            ]
           ],
           "sequentialminus": [
            [
             0,
             "#0d0887"
            ],
            [
             0.1111111111111111,
             "#46039f"
            ],
            [
             0.2222222222222222,
             "#7201a8"
            ],
            [
             0.3333333333333333,
             "#9c179e"
            ],
            [
             0.4444444444444444,
             "#bd3786"
            ],
            [
             0.5555555555555556,
             "#d8576b"
            ],
            [
             0.6666666666666666,
             "#ed7953"
            ],
            [
             0.7777777777777778,
             "#fb9f3a"
            ],
            [
             0.8888888888888888,
             "#fdca26"
            ],
            [
             1,
             "#f0f921"
            ]
           ]
          },
          "colorway": [
           "#636efa",
           "#EF553B",
           "#00cc96",
           "#ab63fa",
           "#FFA15A",
           "#19d3f3",
           "#FF6692",
           "#B6E880",
           "#FF97FF",
           "#FECB52"
          ],
          "font": {
           "color": "#2a3f5f"
          },
          "geo": {
           "bgcolor": "white",
           "lakecolor": "white",
           "landcolor": "#E5ECF6",
           "showlakes": true,
           "showland": true,
           "subunitcolor": "white"
          },
          "hoverlabel": {
           "align": "left"
          },
          "hovermode": "closest",
          "mapbox": {
           "style": "light"
          },
          "paper_bgcolor": "white",
          "plot_bgcolor": "#E5ECF6",
          "polar": {
           "angularaxis": {
            "gridcolor": "white",
            "linecolor": "white",
            "ticks": ""
           },
           "bgcolor": "#E5ECF6",
           "radialaxis": {
            "gridcolor": "white",
            "linecolor": "white",
            "ticks": ""
           }
          },
          "scene": {
           "xaxis": {
            "backgroundcolor": "#E5ECF6",
            "gridcolor": "white",
            "gridwidth": 2,
            "linecolor": "white",
            "showbackground": true,
            "ticks": "",
            "zerolinecolor": "white"
           },
           "yaxis": {
            "backgroundcolor": "#E5ECF6",
            "gridcolor": "white",
            "gridwidth": 2,
            "linecolor": "white",
            "showbackground": true,
            "ticks": "",
            "zerolinecolor": "white"
           },
           "zaxis": {
            "backgroundcolor": "#E5ECF6",
            "gridcolor": "white",
            "gridwidth": 2,
            "linecolor": "white",
            "showbackground": true,
            "ticks": "",
            "zerolinecolor": "white"
           }
          },
          "shapedefaults": {
           "line": {
            "color": "#2a3f5f"
           }
          },
          "ternary": {
           "aaxis": {
            "gridcolor": "white",
            "linecolor": "white",
            "ticks": ""
           },
           "baxis": {
            "gridcolor": "white",
            "linecolor": "white",
            "ticks": ""
           },
           "bgcolor": "#E5ECF6",
           "caxis": {
            "gridcolor": "white",
            "linecolor": "white",
            "ticks": ""
           }
          },
          "title": {
           "x": 0.05
          },
          "xaxis": {
           "automargin": true,
           "gridcolor": "white",
           "linecolor": "white",
           "ticks": "",
           "title": {
            "standoff": 15
           },
           "zerolinecolor": "white",
           "zerolinewidth": 2
          },
          "yaxis": {
           "automargin": true,
           "gridcolor": "white",
           "linecolor": "white",
           "ticks": "",
           "title": {
            "standoff": 15
           },
           "zerolinecolor": "white",
           "zerolinewidth": 2
          }
         }
        },
        "title": {
         "text": "Quantidade de Issues"
        },
        "xaxis": {
         "anchor": "y",
         "domain": [
          0,
          1
         ],
         "title": {
          "text": "Cluster"
         }
        },
        "yaxis": {
         "anchor": "x",
         "domain": [
          0,
          1
         ],
         "title": {
          "text": "Quantidade"
         }
        }
       }
      }
     },
     "metadata": {},
     "output_type": "display_data"
    }
   ],
   "source": [
    "qtdAlunos = pd.DataFrame(columns=['Cluster', 'Quantidade'])\n",
    "index = 0\n",
    "\n",
    "for i, data in enumerate(tamanhoCluster):\n",
    "    qtdAlunos.loc[index] = ['Cluster ' + str(i + 1)] + list([data])\n",
    "    index += 1\n",
    "\n",
    "fig = px.bar(qtdAlunos, x='Cluster', y='Quantidade', title='Quantidade de Issues')\n",
    "fig.show()"
   ]
  }
 ],
 "metadata": {
  "kernelspec": {
   "display_name": "Python 3 (ipykernel)",
   "language": "python",
   "name": "python3"
  },
  "language_info": {
   "codemirror_mode": {
    "name": "ipython",
    "version": 3
   },
   "file_extension": ".py",
   "mimetype": "text/x-python",
   "name": "python",
   "nbconvert_exporter": "python",
   "pygments_lexer": "ipython3",
   "version": "3.9.7"
  }
 },
 "nbformat": 4,
 "nbformat_minor": 5
}
